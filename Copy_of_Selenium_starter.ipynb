{
  "nbformat": 4,
  "nbformat_minor": 0,
  "metadata": {
    "colab": {
      "name": "Copy of Selenium_starter.ipynb",
      "provenance": [],
      "collapsed_sections": [],
      "history_visible": true,
      "mount_file_id": "1ALjwnX0NNeLcJK4gHV9WjQWQMemxbv14",
      "authorship_tag": "ABX9TyMq6A9byjr8DKBX5qWgmHHt",
      "include_colab_link": true
    },
    "kernelspec": {
      "display_name": "Python 3",
      "name": "python3"
    },
    "accelerator": "GPU"
  },
  "cells": [
    {
      "cell_type": "markdown",
      "metadata": {
        "id": "view-in-github",
        "colab_type": "text"
      },
      "source": [
        "<a href=\"https://colab.research.google.com/github/FusionArc/Scrape_cats/blob/master/Copy_of_Selenium_starter.ipynb\" target=\"_parent\"><img src=\"https://colab.research.google.com/assets/colab-badge.svg\" alt=\"Open In Colab\"/></a>"
      ]
    },
    {
      "cell_type": "code",
      "metadata": {
        "colab": {
          "base_uri": "https://localhost:8080/"
        },
        "id": "nFj266K9J2v-",
        "outputId": "ddb6f147-5087-4c78-b751-2d65520a8629"
      },
      "source": [
        "!apt-get update --fix-missing --allow-change-held-packages\n",
        "!apt-get upgrade && apt install -y\n",
        "!apt-get install --allow-change-held-packages python3-dev python3-pip python3-venv libcublas-dev libcublas10 libcudnn7 libcudnn7-dev libnccl-dev libnccl2 linux-headers-generic\n",
        "!apt-get update --fix-missing --allow-change-held-packages && apt install -y\n",
        "!apt install chromium-chromedriver -y\n",
        "!apt autoremove -y"
      ],
      "execution_count": 1,
      "outputs": [
        {
          "output_type": "stream",
          "text": [
            "\r0% [Working]\r            \rGet:1 http://security.ubuntu.com/ubuntu bionic-security InRelease [88.7 kB]\n",
            "\r0% [Connecting to archive.ubuntu.com] [1 InRelease 14.2 kB/88.7 kB 16%] [Connec\r0% [Connecting to archive.ubuntu.com] [Waiting for headers] [Connecting to ppa.\r                                                                               \rGet:2 https://cloud.r-project.org/bin/linux/ubuntu bionic-cran40/ InRelease [3,626 B]\n",
            "\r0% [Connecting to archive.ubuntu.com] [Connecting to ppa.launchpad.net (91.189.\r0% [1 InRelease gpgv 88.7 kB] [Connecting to archive.ubuntu.com] [Connecting to\r                                                                               \rIgn:3 https://developer.download.nvidia.com/compute/cuda/repos/ubuntu1804/x86_64  InRelease\n",
            "\r0% [1 InRelease gpgv 88.7 kB] [Connecting to archive.ubuntu.com (91.189.88.152)\r                                                                               \rGet:4 http://ppa.launchpad.net/c2d4u.team/c2d4u4.0+/ubuntu bionic InRelease [15.9 kB]\n",
            "\r0% [1 InRelease gpgv 88.7 kB] [Waiting for headers] [4 InRelease 2,572 B/15.9 k\r                                                                               \rIgn:5 https://developer.download.nvidia.com/compute/machine-learning/repos/ubuntu1804/x86_64  InRelease\n",
            "\r0% [1 InRelease gpgv 88.7 kB] [Waiting for headers] [4 InRelease 14.2 kB/15.9 k\r                                                                               \rHit:6 https://developer.download.nvidia.com/compute/cuda/repos/ubuntu1804/x86_64  Release\n",
            "Hit:7 https://developer.download.nvidia.com/compute/machine-learning/repos/ubuntu1804/x86_64  Release\n",
            "Hit:8 http://archive.ubuntu.com/ubuntu bionic InRelease\n",
            "Get:9 http://archive.ubuntu.com/ubuntu bionic-updates InRelease [88.7 kB]\n",
            "Hit:10 http://ppa.launchpad.net/cran/libgit2/ubuntu bionic InRelease\n",
            "Get:11 http://ppa.launchpad.net/deadsnakes/ppa/ubuntu bionic InRelease [15.9 kB]\n",
            "Get:12 http://archive.ubuntu.com/ubuntu bionic-backports InRelease [74.6 kB]\n",
            "Hit:15 http://ppa.launchpad.net/graphics-drivers/ppa/ubuntu bionic InRelease\n",
            "Get:16 http://ppa.launchpad.net/c2d4u.team/c2d4u4.0+/ubuntu bionic/main Sources [1,750 kB]\n",
            "Get:17 http://archive.ubuntu.com/ubuntu bionic-updates/universe amd64 Packages [2,173 kB]\n",
            "Get:18 http://archive.ubuntu.com/ubuntu bionic-updates/main amd64 Packages [2,476 kB]\n",
            "Get:19 http://ppa.launchpad.net/c2d4u.team/c2d4u4.0+/ubuntu bionic/main amd64 Packages [895 kB]\n",
            "Get:20 http://ppa.launchpad.net/deadsnakes/ppa/ubuntu bionic/main amd64 Packages [39.5 kB]\n",
            "Fetched 7,621 kB in 3s (2,789 kB/s)\n",
            "Reading package lists... Done\n",
            "Reading package lists... Done\n",
            "Building dependency tree       \n",
            "Reading state information... Done\n",
            "Calculating upgrade... Done\n",
            "The following packages were automatically installed and are no longer required:\n",
            "  r-cran-covr r-cran-crosstalk r-cran-dt r-cran-htmlwidgets r-cran-later\n",
            "  r-cran-lazyeval r-cran-promises r-cran-rex\n",
            "Use 'apt autoremove' to remove them.\n",
            "The following packages have been kept back:\n",
            "  libcudnn8 libcudnn8-dev libnccl-dev libnccl2\n",
            "The following packages will be upgraded:\n",
            "  binutils binutils-common binutils-x86-64-linux-gnu cuda-compat-11-0 gnupg2\n",
            "  libaudit-common libaudit1 libbinutils libc-bin libcublas-dev libcublas10\n",
            "  libcudnn7 libcudnn7-dev libldap-2.4-2 libldap-common libp11-kit0 libperl5.26\n",
            "  libsasl2-2 libsasl2-modules-db libzstd1 linux-libc-dev openssl perl\n",
            "  perl-base perl-modules-5.26 r-cran-dbplyr r-cran-devtools r-cran-pkgload tar\n",
            "  ubuntu-keyring\n",
            "30 upgraded, 0 newly installed, 0 to remove and 4 not upgraded.\n",
            "Need to get 462 MB of archives.\n",
            "After this operation, 70.0 MB of additional disk space will be used.\n",
            "Get:1 https://developer.download.nvidia.com/compute/cuda/repos/ubuntu1804/x86_64  cuda-compat-11-0 450.102.04-1 [6,712 kB]\n",
            "Get:2 http://ppa.launchpad.net/c2d4u.team/c2d4u4.0+/ubuntu bionic/main amd64 r-cran-dbplyr all 2.1.1-1cran1.1804.0 [768 kB]\n",
            "Get:3 http://archive.ubuntu.com/ubuntu bionic-updates/main amd64 libperl5.26 amd64 5.26.1-6ubuntu0.5 [3,534 kB]\n",
            "Get:4 https://developer.download.nvidia.com/compute/cuda/repos/ubuntu1804/x86_64  libcublas10 10.2.3.254-1 [43.1 MB]\n",
            "Get:5 http://ppa.launchpad.net/c2d4u.team/c2d4u4.0+/ubuntu bionic/main amd64 r-cran-pkgload all 1.2.1-1cran1.1804.0 [151 kB]\n",
            "Get:6 http://archive.ubuntu.com/ubuntu bionic-updates/main amd64 perl amd64 5.26.1-6ubuntu0.5 [201 kB]\n",
            "Get:7 http://archive.ubuntu.com/ubuntu bionic-updates/main amd64 perl-base amd64 5.26.1-6ubuntu0.5 [1,391 kB]\n",
            "Get:8 http://archive.ubuntu.com/ubuntu bionic-updates/main amd64 perl-modules-5.26 all 5.26.1-6ubuntu0.5 [2,762 kB]\n",
            "Get:9 http://archive.ubuntu.com/ubuntu bionic-updates/main amd64 tar amd64 1.29b-2ubuntu0.2 [234 kB]\n",
            "Get:10 http://archive.ubuntu.com/ubuntu bionic-updates/main amd64 libc-bin amd64 2.27-3ubuntu1.4 [643 kB]\n",
            "Get:11 http://archive.ubuntu.com/ubuntu bionic-updates/main amd64 libaudit-common all 1:2.8.2-1ubuntu1.1 [4,068 B]\n",
            "Get:12 http://archive.ubuntu.com/ubuntu bionic-updates/main amd64 libaudit1 amd64 1:2.8.2-1ubuntu1.1 [38.7 kB]\n",
            "Get:13 http://archive.ubuntu.com/ubuntu bionic-updates/main amd64 libzstd1 amd64 1.3.3+dfsg-2ubuntu1.2 [189 kB]\n",
            "Get:14 https://developer.download.nvidia.com/compute/cuda/repos/ubuntu1804/x86_64  libcublas-dev 10.2.3.254-1 [42.4 MB]\n",
            "Get:15 http://archive.ubuntu.com/ubuntu bionic-updates/main amd64 libp11-kit0 amd64 0.23.9-2ubuntu0.1 [187 kB]\n",
            "Get:16 http://archive.ubuntu.com/ubuntu bionic-updates/main amd64 ubuntu-keyring all 2018.09.18.1~18.04.2 [22.3 kB]\n",
            "Get:17 http://archive.ubuntu.com/ubuntu bionic-updates/main amd64 openssl amd64 1.1.1-1ubuntu2.1~18.04.9 [614 kB]\n",
            "Get:18 http://archive.ubuntu.com/ubuntu bionic-updates/main amd64 binutils-x86-64-linux-gnu amd64 2.30-21ubuntu1~18.04.5 [1,839 kB]\n",
            "Get:19 http://archive.ubuntu.com/ubuntu bionic-updates/main amd64 binutils-common amd64 2.30-21ubuntu1~18.04.5 [197 kB]\n",
            "Get:20 http://archive.ubuntu.com/ubuntu bionic-updates/main amd64 binutils amd64 2.30-21ubuntu1~18.04.5 [3,388 B]\n",
            "Get:21 http://archive.ubuntu.com/ubuntu bionic-updates/main amd64 libbinutils amd64 2.30-21ubuntu1~18.04.5 [489 kB]\n",
            "Get:22 http://archive.ubuntu.com/ubuntu bionic-updates/main amd64 libsasl2-modules-db amd64 2.1.27~101-g0780600+dfsg-3ubuntu2.3 [15.0 kB]\n",
            "Get:23 http://archive.ubuntu.com/ubuntu bionic-updates/main amd64 libsasl2-2 amd64 2.1.27~101-g0780600+dfsg-3ubuntu2.3 [49.2 kB]\n",
            "Get:24 http://archive.ubuntu.com/ubuntu bionic-updates/main amd64 libldap-common all 2.4.45+dfsg-1ubuntu1.10 [15.8 kB]\n",
            "Get:25 http://archive.ubuntu.com/ubuntu bionic-updates/main amd64 libldap-2.4-2 amd64 2.4.45+dfsg-1ubuntu1.10 [154 kB]\n",
            "Get:26 http://archive.ubuntu.com/ubuntu bionic-updates/main amd64 linux-libc-dev amd64 4.15.0-140.144 [993 kB]\n",
            "Get:27 http://ppa.launchpad.net/c2d4u.team/c2d4u4.0+/ubuntu bionic/main amd64 r-cran-devtools all 2.4.0-1cran1.1804.0 [377 kB]\n",
            "Get:28 http://archive.ubuntu.com/ubuntu bionic-updates/universe amd64 gnupg2 all 2.2.4-1ubuntu1.4 [5,292 B]\n",
            "Get:29 https://developer.download.nvidia.com/compute/machine-learning/repos/ubuntu1804/x86_64  libcudnn7-dev 7.6.5.32-1+cuda10.2 [165 MB]\n",
            "Get:30 https://developer.download.nvidia.com/compute/machine-learning/repos/ubuntu1804/x86_64  libcudnn7 7.6.5.32-1+cuda10.2 [189 MB]\n",
            "Fetched 462 MB in 7s (61.7 MB/s)\n",
            "(Reading database ... 160983 files and directories currently installed.)\n",
            "Preparing to unpack .../libperl5.26_5.26.1-6ubuntu0.5_amd64.deb ...\n",
            "Unpacking libperl5.26:amd64 (5.26.1-6ubuntu0.5) over (5.26.1-6ubuntu0.3) ...\n",
            "Preparing to unpack .../perl_5.26.1-6ubuntu0.5_amd64.deb ...\n",
            "Unpacking perl (5.26.1-6ubuntu0.5) over (5.26.1-6ubuntu0.3) ...\n",
            "Preparing to unpack .../perl-base_5.26.1-6ubuntu0.5_amd64.deb ...\n",
            "Unpacking perl-base (5.26.1-6ubuntu0.5) over (5.26.1-6ubuntu0.3) ...\n",
            "Setting up perl-base (5.26.1-6ubuntu0.5) ...\n",
            "(Reading database ... 160983 files and directories currently installed.)\n",
            "Preparing to unpack .../perl-modules-5.26_5.26.1-6ubuntu0.5_all.deb ...\n",
            "Unpacking perl-modules-5.26 (5.26.1-6ubuntu0.5) over (5.26.1-6ubuntu0.3) ...\n",
            "Preparing to unpack .../tar_1.29b-2ubuntu0.2_amd64.deb ...\n",
            "Unpacking tar (1.29b-2ubuntu0.2) over (1.29b-2ubuntu0.1) ...\n",
            "Setting up tar (1.29b-2ubuntu0.2) ...\n",
            "update-alternatives: warning: forcing reinstallation of alternative /usr/sbin/rmt-tar because link group rmt is broken\n",
            "(Reading database ... 160983 files and directories currently installed.)\n",
            "Preparing to unpack .../libc-bin_2.27-3ubuntu1.4_amd64.deb ...\n",
            "Unpacking libc-bin (2.27-3ubuntu1.4) over (2.27-3ubuntu1.2) ...\n",
            "Setting up libc-bin (2.27-3ubuntu1.4) ...\n",
            "/sbin/ldconfig.real: /usr/local/lib/python3.7/dist-packages/ideep4py/lib/libmkldnn.so.0 is not a symbolic link\n",
            "\n",
            "(Reading database ... 160983 files and directories currently installed.)\n",
            "Preparing to unpack .../libaudit-common_1%3a2.8.2-1ubuntu1.1_all.deb ...\n",
            "Unpacking libaudit-common (1:2.8.2-1ubuntu1.1) over (1:2.8.2-1ubuntu1) ...\n",
            "Setting up libaudit-common (1:2.8.2-1ubuntu1.1) ...\n",
            "(Reading database ... 160983 files and directories currently installed.)\n",
            "Preparing to unpack .../libaudit1_1%3a2.8.2-1ubuntu1.1_amd64.deb ...\n",
            "Unpacking libaudit1:amd64 (1:2.8.2-1ubuntu1.1) over (1:2.8.2-1ubuntu1) ...\n",
            "Setting up libaudit1:amd64 (1:2.8.2-1ubuntu1.1) ...\n",
            "(Reading database ... 160983 files and directories currently installed.)\n",
            "Preparing to unpack .../libzstd1_1.3.3+dfsg-2ubuntu1.2_amd64.deb ...\n",
            "Unpacking libzstd1:amd64 (1.3.3+dfsg-2ubuntu1.2) over (1.3.3+dfsg-2ubuntu1.1) ...\n",
            "Setting up libzstd1:amd64 (1.3.3+dfsg-2ubuntu1.2) ...\n",
            "(Reading database ... 160983 files and directories currently installed.)\n",
            "Preparing to unpack .../libp11-kit0_0.23.9-2ubuntu0.1_amd64.deb ...\n",
            "Unpacking libp11-kit0:amd64 (0.23.9-2ubuntu0.1) over (0.23.9-2) ...\n",
            "Setting up libp11-kit0:amd64 (0.23.9-2ubuntu0.1) ...\n",
            "(Reading database ... 160983 files and directories currently installed.)\n",
            "Preparing to unpack .../ubuntu-keyring_2018.09.18.1~18.04.2_all.deb ...\n",
            "Unpacking ubuntu-keyring (2018.09.18.1~18.04.2) over (2018.09.18.1~18.04.0) ...\n",
            "Setting up ubuntu-keyring (2018.09.18.1~18.04.2) ...\n",
            "(Reading database ... 160983 files and directories currently installed.)\n",
            "Preparing to unpack .../00-openssl_1.1.1-1ubuntu2.1~18.04.9_amd64.deb ...\n",
            "Unpacking openssl (1.1.1-1ubuntu2.1~18.04.9) over (1.1.1-1ubuntu2.1~18.04.6) ...\n",
            "Preparing to unpack .../01-binutils-x86-64-linux-gnu_2.30-21ubuntu1~18.04.5_amd64.deb ...\n",
            "Unpacking binutils-x86-64-linux-gnu (2.30-21ubuntu1~18.04.5) over (2.30-21ubuntu1~18.04.4) ...\n",
            "Preparing to unpack .../02-binutils-common_2.30-21ubuntu1~18.04.5_amd64.deb ...\n",
            "Unpacking binutils-common:amd64 (2.30-21ubuntu1~18.04.5) over (2.30-21ubuntu1~18.04.4) ...\n",
            "Preparing to unpack .../03-binutils_2.30-21ubuntu1~18.04.5_amd64.deb ...\n",
            "Unpacking binutils (2.30-21ubuntu1~18.04.5) over (2.30-21ubuntu1~18.04.4) ...\n",
            "Preparing to unpack .../04-libbinutils_2.30-21ubuntu1~18.04.5_amd64.deb ...\n",
            "Unpacking libbinutils:amd64 (2.30-21ubuntu1~18.04.5) over (2.30-21ubuntu1~18.04.4) ...\n",
            "Preparing to unpack .../05-cuda-compat-11-0_450.102.04-1_amd64.deb ...\n",
            "Unpacking cuda-compat-11-0 (450.102.04-1) over (450.80.02-1) ...\n",
            "Preparing to unpack .../06-libcublas10_10.2.3.254-1_amd64.deb ...\n",
            "Unpacking libcublas10 (10.2.3.254-1) over (10.2.1.243-1) ...\n",
            "Preparing to unpack .../07-libcublas-dev_10.2.3.254-1_amd64.deb ...\n",
            "Unpacking libcublas-dev (10.2.3.254-1) over (10.2.1.243-1) ...\n",
            "Preparing to unpack .../08-libcudnn7-dev_7.6.5.32-1+cuda10.2_amd64.deb ...\n",
            "update-alternatives: removing manually selected alternative - switching libcudnn to auto mode\n",
            "update-alternatives: using /usr/include/x86_64-linux-gnu/cudnn_v8.h to provide /usr/include/cudnn.h (libcudnn) in auto mode\n",
            "Unpacking libcudnn7-dev (7.6.5.32-1+cuda10.2) over (7.6.5.32-1+cuda10.1) ...\n",
            "Preparing to unpack .../09-libcudnn7_7.6.5.32-1+cuda10.2_amd64.deb ...\n",
            "Unpacking libcudnn7 (7.6.5.32-1+cuda10.2) over (7.6.5.32-1+cuda10.1) ...\n",
            "Preparing to unpack .../10-libsasl2-modules-db_2.1.27~101-g0780600+dfsg-3ubuntu2.3_amd64.deb ...\n",
            "Unpacking libsasl2-modules-db:amd64 (2.1.27~101-g0780600+dfsg-3ubuntu2.3) over (2.1.27~101-g0780600+dfsg-3ubuntu2.1) ...\n",
            "Preparing to unpack .../11-libsasl2-2_2.1.27~101-g0780600+dfsg-3ubuntu2.3_amd64.deb ...\n",
            "Unpacking libsasl2-2:amd64 (2.1.27~101-g0780600+dfsg-3ubuntu2.3) over (2.1.27~101-g0780600+dfsg-3ubuntu2.1) ...\n",
            "Preparing to unpack .../12-libldap-common_2.4.45+dfsg-1ubuntu1.10_all.deb ...\n",
            "Unpacking libldap-common (2.4.45+dfsg-1ubuntu1.10) over (2.4.45+dfsg-1ubuntu1.6) ...\n",
            "Preparing to unpack .../13-libldap-2.4-2_2.4.45+dfsg-1ubuntu1.10_amd64.deb ...\n",
            "Unpacking libldap-2.4-2:amd64 (2.4.45+dfsg-1ubuntu1.10) over (2.4.45+dfsg-1ubuntu1.6) ...\n",
            "Preparing to unpack .../14-linux-libc-dev_4.15.0-140.144_amd64.deb ...\n",
            "Unpacking linux-libc-dev:amd64 (4.15.0-140.144) over (4.15.0-118.119) ...\n",
            "Preparing to unpack .../15-r-cran-dbplyr_2.1.1-1cran1.1804.0_all.deb ...\n",
            "Unpacking r-cran-dbplyr (2.1.1-1cran1.1804.0) over (2.1.0-1cran1.1804.0) ...\n",
            "Preparing to unpack .../16-r-cran-pkgload_1.2.1-1cran1.1804.0_all.deb ...\n",
            "Unpacking r-cran-pkgload (1.2.1-1cran1.1804.0) over (1.2.0-1cran1.1804.0) ...\n",
            "Preparing to unpack .../17-r-cran-devtools_2.4.0-1cran1.1804.0_all.deb ...\n",
            "Unpacking r-cran-devtools (2.4.0-1cran1.1804.0) over (2.3.2-1cran1.1804.0) ...\n",
            "Preparing to unpack .../18-gnupg2_2.2.4-1ubuntu1.4_all.deb ...\n",
            "Unpacking gnupg2 (2.2.4-1ubuntu1.4) over (2.2.4-1ubuntu1.3) ...\n",
            "Setting up libcudnn7 (7.6.5.32-1+cuda10.2) ...\n",
            "Setting up r-cran-pkgload (1.2.1-1cran1.1804.0) ...\n",
            "Setting up libldap-common (2.4.45+dfsg-1ubuntu1.10) ...\n",
            "Setting up r-cran-devtools (2.4.0-1cran1.1804.0) ...\n",
            "Setting up cuda-compat-11-0 (450.102.04-1) ...\n",
            "Setting up libsasl2-modules-db:amd64 (2.1.27~101-g0780600+dfsg-3ubuntu2.3) ...\n",
            "Setting up linux-libc-dev:amd64 (4.15.0-140.144) ...\n",
            "Setting up libsasl2-2:amd64 (2.1.27~101-g0780600+dfsg-3ubuntu2.3) ...\n",
            "Setting up libcudnn7-dev (7.6.5.32-1+cuda10.2) ...\n",
            "update-alternatives: using /usr/include/x86_64-linux-gnu/cudnn_v7.h to provide /usr/include/cudnn.h (libcudnn) in manual mode\n",
            "Setting up perl-modules-5.26 (5.26.1-6ubuntu0.5) ...\n",
            "Setting up binutils-common:amd64 (2.30-21ubuntu1~18.04.5) ...\n",
            "Setting up gnupg2 (2.2.4-1ubuntu1.4) ...\n",
            "Setting up libcublas10 (10.2.3.254-1) ...\n",
            "Setting up libcublas-dev (10.2.3.254-1) ...\n",
            "Setting up libperl5.26:amd64 (5.26.1-6ubuntu0.5) ...\n",
            "Setting up libldap-2.4-2:amd64 (2.4.45+dfsg-1ubuntu1.10) ...\n",
            "Setting up openssl (1.1.1-1ubuntu2.1~18.04.9) ...\n",
            "Setting up r-cran-dbplyr (2.1.1-1cran1.1804.0) ...\n",
            "Setting up libbinutils:amd64 (2.30-21ubuntu1~18.04.5) ...\n",
            "Setting up perl (5.26.1-6ubuntu0.5) ...\n",
            "Setting up binutils-x86-64-linux-gnu (2.30-21ubuntu1~18.04.5) ...\n",
            "Setting up binutils (2.30-21ubuntu1~18.04.5) ...\n",
            "Processing triggers for libc-bin (2.27-3ubuntu1.4) ...\n",
            "/sbin/ldconfig.real: /usr/local/lib/python3.7/dist-packages/ideep4py/lib/libmkldnn.so.0 is not a symbolic link\n",
            "\n",
            "Processing triggers for man-db (2.8.3-2ubuntu0.1) ...\n",
            "Processing triggers for mime-support (3.60ubuntu1) ...\n",
            "Reading package lists... Done\n",
            "Building dependency tree       \n",
            "Reading state information... Done\n",
            "The following packages were automatically installed and are no longer required:\n",
            "  r-cran-covr r-cran-crosstalk r-cran-dt r-cran-htmlwidgets r-cran-later\n",
            "  r-cran-lazyeval r-cran-promises r-cran-rex\n",
            "Use 'apt autoremove' to remove them.\n",
            "0 upgraded, 0 newly installed, 0 to remove and 4 not upgraded.\n",
            "Reading package lists... Done\n",
            "Building dependency tree       \n",
            "Reading state information... Done\n",
            "linux-headers-generic is already the newest version (4.15.0.140.127).\n",
            "python3-dev is already the newest version (3.6.7-1~18.04).\n",
            "python3-dev set to manually installed.\n",
            "libcublas10 is already the newest version (10.2.3.254-1).\n",
            "libcublas-dev is already the newest version (10.2.3.254-1).\n",
            "libcudnn7 is already the newest version (7.6.5.32-1+cuda10.2).\n",
            "libcudnn7-dev is already the newest version (7.6.5.32-1+cuda10.2).\n",
            "The following packages were automatically installed and are no longer required:\n",
            "  r-cran-covr r-cran-crosstalk r-cran-dt r-cran-htmlwidgets r-cran-later\n",
            "  r-cran-lazyeval r-cran-promises r-cran-rex\n",
            "Use 'apt autoremove' to remove them.\n",
            "The following additional packages will be installed:\n",
            "  python-pip-whl python3-asn1crypto python3-cffi-backend python3-crypto\n",
            "  python3-cryptography python3-idna python3-keyring python3-keyrings.alt\n",
            "  python3-pkg-resources python3-secretstorage python3-setuptools python3-six\n",
            "  python3-wheel python3-xdg python3.6-venv\n",
            "Suggested packages:\n",
            "  python-crypto-doc python-cryptography-doc python3-cryptography-vectors\n",
            "  gnome-keyring libkf5wallet-bin gir1.2-gnomekeyring-1.0\n",
            "  python-secretstorage-doc python-setuptools-doc\n",
            "The following NEW packages will be installed:\n",
            "  python-pip-whl python3-asn1crypto python3-cffi-backend python3-crypto\n",
            "  python3-cryptography python3-idna python3-keyring python3-keyrings.alt\n",
            "  python3-pip python3-pkg-resources python3-secretstorage python3-setuptools\n",
            "  python3-six python3-venv python3-wheel python3-xdg python3.6-venv\n",
            "The following held packages will be changed:\n",
            "  libnccl-dev libnccl2\n",
            "The following packages will be upgraded:\n",
            "  libnccl-dev libnccl2\n",
            "2 upgraded, 17 newly installed, 0 to remove and 2 not upgraded.\n",
            "Need to get 82.7 MB of archives.\n",
            "After this operation, 56.6 MB of additional disk space will be used.\n",
            "Get:1 https://developer.download.nvidia.com/compute/cuda/repos/ubuntu1804/x86_64  libnccl-dev 2.8.4-1+cuda11.2 [39.3 MB]\n",
            "Get:2 http://archive.ubuntu.com/ubuntu bionic-updates/universe amd64 python-pip-whl all 9.0.1-2.3~ubuntu1.18.04.4 [1,653 kB]\n",
            "Get:3 https://developer.download.nvidia.com/compute/cuda/repos/ubuntu1804/x86_64  libnccl2 2.8.4-1+cuda11.2 [40.6 MB]\n",
            "Get:4 http://archive.ubuntu.com/ubuntu bionic/main amd64 python3-asn1crypto all 0.24.0-1 [72.8 kB]\n",
            "Get:5 http://archive.ubuntu.com/ubuntu bionic/main amd64 python3-cffi-backend amd64 1.11.5-1 [64.6 kB]\n",
            "Get:6 http://archive.ubuntu.com/ubuntu bionic/main amd64 python3-crypto amd64 2.6.1-8ubuntu2 [244 kB]\n",
            "Get:7 http://archive.ubuntu.com/ubuntu bionic/main amd64 python3-idna all 2.6-1 [32.5 kB]\n",
            "Get:8 http://archive.ubuntu.com/ubuntu bionic/main amd64 python3-six all 1.11.0-2 [11.4 kB]\n",
            "Get:9 http://archive.ubuntu.com/ubuntu bionic-updates/main amd64 python3-cryptography amd64 2.1.4-1ubuntu1.4 [220 kB]\n",
            "Get:10 http://archive.ubuntu.com/ubuntu bionic/main amd64 python3-secretstorage all 2.3.1-2 [12.1 kB]\n",
            "Get:11 http://archive.ubuntu.com/ubuntu bionic/main amd64 python3-keyring all 10.6.0-1 [26.7 kB]\n",
            "Get:12 http://archive.ubuntu.com/ubuntu bionic/main amd64 python3-keyrings.alt all 3.0-1 [16.6 kB]\n",
            "Get:13 http://archive.ubuntu.com/ubuntu bionic-updates/universe amd64 python3-pip all 9.0.1-2.3~ubuntu1.18.04.4 [114 kB]\n",
            "Get:14 http://archive.ubuntu.com/ubuntu bionic/main amd64 python3-pkg-resources all 39.0.1-2 [98.8 kB]\n",
            "Get:15 http://archive.ubuntu.com/ubuntu bionic/main amd64 python3-setuptools all 39.0.1-2 [248 kB]\n",
            "Get:16 http://archive.ubuntu.com/ubuntu bionic-updates/universe amd64 python3.6-venv amd64 3.6.9-1~18.04ubuntu1.4 [6,188 B]\n",
            "Get:17 http://archive.ubuntu.com/ubuntu bionic-updates/universe amd64 python3-venv amd64 3.6.7-1~18.04 [1,208 B]\n",
            "Get:18 http://archive.ubuntu.com/ubuntu bionic/universe amd64 python3-wheel all 0.30.0-0.2 [36.5 kB]\n",
            "Get:19 http://archive.ubuntu.com/ubuntu bionic-updates/main amd64 python3-xdg all 0.25-4ubuntu1.1 [31.3 kB]\n",
            "Fetched 82.7 MB in 1s (58.6 MB/s)\n",
            "(Reading database ... 160987 files and directories currently installed.)\n",
            "Preparing to unpack .../00-libnccl-dev_2.8.4-1+cuda11.2_amd64.deb ...\n",
            "Unpacking libnccl-dev (2.8.4-1+cuda11.2) over (2.7.8-1+cuda11.0) ...\n",
            "Preparing to unpack .../01-libnccl2_2.8.4-1+cuda11.2_amd64.deb ...\n",
            "Unpacking libnccl2 (2.8.4-1+cuda11.2) over (2.7.8-1+cuda11.0) ...\n",
            "Selecting previously unselected package python-pip-whl.\n",
            "Preparing to unpack .../02-python-pip-whl_9.0.1-2.3~ubuntu1.18.04.4_all.deb ...\n",
            "Unpacking python-pip-whl (9.0.1-2.3~ubuntu1.18.04.4) ...\n",
            "Selecting previously unselected package python3-asn1crypto.\n",
            "Preparing to unpack .../03-python3-asn1crypto_0.24.0-1_all.deb ...\n",
            "Unpacking python3-asn1crypto (0.24.0-1) ...\n",
            "Selecting previously unselected package python3-cffi-backend.\n",
            "Preparing to unpack .../04-python3-cffi-backend_1.11.5-1_amd64.deb ...\n",
            "Unpacking python3-cffi-backend (1.11.5-1) ...\n",
            "Selecting previously unselected package python3-crypto.\n",
            "Preparing to unpack .../05-python3-crypto_2.6.1-8ubuntu2_amd64.deb ...\n",
            "Unpacking python3-crypto (2.6.1-8ubuntu2) ...\n",
            "Selecting previously unselected package python3-idna.\n",
            "Preparing to unpack .../06-python3-idna_2.6-1_all.deb ...\n",
            "Unpacking python3-idna (2.6-1) ...\n",
            "Selecting previously unselected package python3-six.\n",
            "Preparing to unpack .../07-python3-six_1.11.0-2_all.deb ...\n",
            "Unpacking python3-six (1.11.0-2) ...\n",
            "Selecting previously unselected package python3-cryptography.\n",
            "Preparing to unpack .../08-python3-cryptography_2.1.4-1ubuntu1.4_amd64.deb ...\n",
            "Unpacking python3-cryptography (2.1.4-1ubuntu1.4) ...\n",
            "Selecting previously unselected package python3-secretstorage.\n",
            "Preparing to unpack .../09-python3-secretstorage_2.3.1-2_all.deb ...\n",
            "Unpacking python3-secretstorage (2.3.1-2) ...\n",
            "Selecting previously unselected package python3-keyring.\n",
            "Preparing to unpack .../10-python3-keyring_10.6.0-1_all.deb ...\n",
            "Unpacking python3-keyring (10.6.0-1) ...\n",
            "Selecting previously unselected package python3-keyrings.alt.\n",
            "Preparing to unpack .../11-python3-keyrings.alt_3.0-1_all.deb ...\n",
            "Unpacking python3-keyrings.alt (3.0-1) ...\n",
            "Selecting previously unselected package python3-pip.\n",
            "Preparing to unpack .../12-python3-pip_9.0.1-2.3~ubuntu1.18.04.4_all.deb ...\n",
            "Unpacking python3-pip (9.0.1-2.3~ubuntu1.18.04.4) ...\n",
            "Selecting previously unselected package python3-pkg-resources.\n",
            "Preparing to unpack .../13-python3-pkg-resources_39.0.1-2_all.deb ...\n",
            "Unpacking python3-pkg-resources (39.0.1-2) ...\n",
            "Selecting previously unselected package python3-setuptools.\n",
            "Preparing to unpack .../14-python3-setuptools_39.0.1-2_all.deb ...\n",
            "Unpacking python3-setuptools (39.0.1-2) ...\n",
            "Selecting previously unselected package python3.6-venv.\n",
            "Preparing to unpack .../15-python3.6-venv_3.6.9-1~18.04ubuntu1.4_amd64.deb ...\n",
            "Unpacking python3.6-venv (3.6.9-1~18.04ubuntu1.4) ...\n",
            "Selecting previously unselected package python3-venv.\n",
            "Preparing to unpack .../16-python3-venv_3.6.7-1~18.04_amd64.deb ...\n",
            "Unpacking python3-venv (3.6.7-1~18.04) ...\n",
            "Selecting previously unselected package python3-wheel.\n",
            "Preparing to unpack .../17-python3-wheel_0.30.0-0.2_all.deb ...\n",
            "Unpacking python3-wheel (0.30.0-0.2) ...\n",
            "Selecting previously unselected package python3-xdg.\n",
            "Preparing to unpack .../18-python3-xdg_0.25-4ubuntu1.1_all.deb ...\n",
            "Unpacking python3-xdg (0.25-4ubuntu1.1) ...\n",
            "Setting up python-pip-whl (9.0.1-2.3~ubuntu1.18.04.4) ...\n",
            "Setting up python3-cffi-backend (1.11.5-1) ...\n",
            "Setting up libnccl2 (2.8.4-1+cuda11.2) ...\n",
            "Setting up python3-crypto (2.6.1-8ubuntu2) ...\n",
            "Setting up python3-idna (2.6-1) ...\n",
            "Setting up python3-xdg (0.25-4ubuntu1.1) ...\n",
            "Setting up python3-six (1.11.0-2) ...\n",
            "Setting up python3.6-venv (3.6.9-1~18.04ubuntu1.4) ...\n",
            "Setting up python3-wheel (0.30.0-0.2) ...\n",
            "Setting up python3-pkg-resources (39.0.1-2) ...\n",
            "Setting up python3-asn1crypto (0.24.0-1) ...\n",
            "Setting up python3-pip (9.0.1-2.3~ubuntu1.18.04.4) ...\n",
            "Setting up python3-setuptools (39.0.1-2) ...\n",
            "Setting up python3-venv (3.6.7-1~18.04) ...\n",
            "Setting up python3-cryptography (2.1.4-1ubuntu1.4) ...\n",
            "Setting up libnccl-dev (2.8.4-1+cuda11.2) ...\n",
            "Setting up python3-keyrings.alt (3.0-1) ...\n",
            "Setting up python3-secretstorage (2.3.1-2) ...\n",
            "Setting up python3-keyring (10.6.0-1) ...\n",
            "Processing triggers for man-db (2.8.3-2ubuntu0.1) ...\n",
            "Processing triggers for libc-bin (2.27-3ubuntu1.4) ...\n",
            "/sbin/ldconfig.real: /usr/local/lib/python3.7/dist-packages/ideep4py/lib/libmkldnn.so.0 is not a symbolic link\n",
            "\n",
            "Hit:1 https://cloud.r-project.org/bin/linux/ubuntu bionic-cran40/ InRelease\n",
            "Ign:2 https://developer.download.nvidia.com/compute/cuda/repos/ubuntu1804/x86_64  InRelease\n",
            "Get:3 http://security.ubuntu.com/ubuntu bionic-security InRelease [88.7 kB]\n",
            "Hit:4 http://ppa.launchpad.net/c2d4u.team/c2d4u4.0+/ubuntu bionic InRelease\n",
            "Hit:5 http://archive.ubuntu.com/ubuntu bionic InRelease\n",
            "Ign:6 https://developer.download.nvidia.com/compute/machine-learning/repos/ubuntu1804/x86_64  InRelease\n",
            "Hit:7 https://developer.download.nvidia.com/compute/cuda/repos/ubuntu1804/x86_64  Release\n",
            "Hit:8 https://developer.download.nvidia.com/compute/machine-learning/repos/ubuntu1804/x86_64  Release\n",
            "Hit:9 http://archive.ubuntu.com/ubuntu bionic-updates InRelease\n",
            "Hit:10 http://ppa.launchpad.net/cran/libgit2/ubuntu bionic InRelease\n",
            "Hit:11 http://archive.ubuntu.com/ubuntu bionic-backports InRelease\n",
            "Hit:12 http://ppa.launchpad.net/deadsnakes/ppa/ubuntu bionic InRelease\n",
            "Hit:13 http://ppa.launchpad.net/graphics-drivers/ppa/ubuntu bionic InRelease\n",
            "Fetched 88.7 kB in 2s (52.3 kB/s)\n",
            "Reading package lists... Done\n",
            "Reading package lists... Done\n",
            "Building dependency tree       \n",
            "Reading state information... Done\n",
            "The following packages were automatically installed and are no longer required:\n",
            "  r-cran-covr r-cran-crosstalk r-cran-dt r-cran-htmlwidgets r-cran-later\n",
            "  r-cran-lazyeval r-cran-promises r-cran-rex\n",
            "Use 'apt autoremove' to remove them.\n",
            "0 upgraded, 0 newly installed, 0 to remove and 2 not upgraded.\n",
            "Reading package lists... Done\n",
            "Building dependency tree       \n",
            "Reading state information... Done\n",
            "The following packages were automatically installed and are no longer required:\n",
            "  r-cran-covr r-cran-crosstalk r-cran-dt r-cran-htmlwidgets r-cran-later\n",
            "  r-cran-lazyeval r-cran-promises r-cran-rex\n",
            "Use 'apt autoremove' to remove them.\n",
            "The following additional packages will be installed:\n",
            "  chromium-browser chromium-browser-l10n chromium-codecs-ffmpeg-extra\n",
            "Suggested packages:\n",
            "  webaccounts-chromium-extension unity-chromium-extension\n",
            "The following NEW packages will be installed:\n",
            "  chromium-browser chromium-browser-l10n chromium-chromedriver\n",
            "  chromium-codecs-ffmpeg-extra\n",
            "0 upgraded, 4 newly installed, 0 to remove and 2 not upgraded.\n",
            "Need to get 83.2 MB of archives.\n",
            "After this operation, 282 MB of additional disk space will be used.\n",
            "Get:1 http://archive.ubuntu.com/ubuntu bionic-updates/universe amd64 chromium-codecs-ffmpeg-extra amd64 89.0.4389.90-0ubuntu0.18.04.2 [1,127 kB]\n",
            "Get:2 http://archive.ubuntu.com/ubuntu bionic-updates/universe amd64 chromium-browser amd64 89.0.4389.90-0ubuntu0.18.04.2 [73.6 MB]\n",
            "Get:3 http://archive.ubuntu.com/ubuntu bionic-updates/universe amd64 chromium-browser-l10n all 89.0.4389.90-0ubuntu0.18.04.2 [3,809 kB]\n",
            "Get:4 http://archive.ubuntu.com/ubuntu bionic-updates/universe amd64 chromium-chromedriver amd64 89.0.4389.90-0ubuntu0.18.04.2 [4,697 kB]\n",
            "Fetched 83.2 MB in 3s (28.2 MB/s)\n",
            "Selecting previously unselected package chromium-codecs-ffmpeg-extra.\n",
            "(Reading database ... 161678 files and directories currently installed.)\n",
            "Preparing to unpack .../chromium-codecs-ffmpeg-extra_89.0.4389.90-0ubuntu0.18.04.2_amd64.deb ...\n",
            "Unpacking chromium-codecs-ffmpeg-extra (89.0.4389.90-0ubuntu0.18.04.2) ...\n",
            "Selecting previously unselected package chromium-browser.\n",
            "Preparing to unpack .../chromium-browser_89.0.4389.90-0ubuntu0.18.04.2_amd64.deb ...\n",
            "Unpacking chromium-browser (89.0.4389.90-0ubuntu0.18.04.2) ...\n",
            "Selecting previously unselected package chromium-browser-l10n.\n",
            "Preparing to unpack .../chromium-browser-l10n_89.0.4389.90-0ubuntu0.18.04.2_all.deb ...\n",
            "Unpacking chromium-browser-l10n (89.0.4389.90-0ubuntu0.18.04.2) ...\n",
            "Selecting previously unselected package chromium-chromedriver.\n",
            "Preparing to unpack .../chromium-chromedriver_89.0.4389.90-0ubuntu0.18.04.2_amd64.deb ...\n",
            "Unpacking chromium-chromedriver (89.0.4389.90-0ubuntu0.18.04.2) ...\n",
            "Setting up chromium-codecs-ffmpeg-extra (89.0.4389.90-0ubuntu0.18.04.2) ...\n",
            "Setting up chromium-browser (89.0.4389.90-0ubuntu0.18.04.2) ...\n",
            "update-alternatives: using /usr/bin/chromium-browser to provide /usr/bin/x-www-browser (x-www-browser) in auto mode\n",
            "update-alternatives: using /usr/bin/chromium-browser to provide /usr/bin/gnome-www-browser (gnome-www-browser) in auto mode\n",
            "Setting up chromium-chromedriver (89.0.4389.90-0ubuntu0.18.04.2) ...\n",
            "Setting up chromium-browser-l10n (89.0.4389.90-0ubuntu0.18.04.2) ...\n",
            "Processing triggers for man-db (2.8.3-2ubuntu0.1) ...\n",
            "Processing triggers for hicolor-icon-theme (0.17-2) ...\n",
            "Processing triggers for mime-support (3.60ubuntu1) ...\n",
            "Processing triggers for libc-bin (2.27-3ubuntu1.4) ...\n",
            "/sbin/ldconfig.real: /usr/local/lib/python3.7/dist-packages/ideep4py/lib/libmkldnn.so.0 is not a symbolic link\n",
            "\n",
            "Reading package lists... Done\n",
            "Building dependency tree       \n",
            "Reading state information... Done\n",
            "The following packages will be REMOVED:\n",
            "  r-cran-covr r-cran-crosstalk r-cran-dt r-cran-htmlwidgets r-cran-later\n",
            "  r-cran-lazyeval r-cran-promises r-cran-rex\n",
            "0 upgraded, 0 newly installed, 8 to remove and 2 not upgraded.\n",
            "After this operation, 12.1 MB disk space will be freed.\n",
            "(Reading database ... 162043 files and directories currently installed.)\n",
            "Removing r-cran-covr (3.5.1-1cran1.1804.0) ...\n",
            "Removing r-cran-dt (0.17-1cran1.1804.0) ...\n",
            "Removing r-cran-crosstalk (1.1.1-1cran1.1804.0) ...\n",
            "Removing r-cran-htmlwidgets (1.5.3-1cran1.1804.0) ...\n",
            "Removing r-cran-promises (1.2.0.1-1cran1.1804.0) ...\n",
            "Removing r-cran-later (1.1.0.1-1cran1.1804.0) ...\n",
            "Removing r-cran-rex (1.2.0-1cran1.1804.0) ...\n",
            "Removing r-cran-lazyeval (0.2.2-1cran1.1804.1) ...\n"
          ],
          "name": "stdout"
        }
      ]
    },
    {
      "cell_type": "code",
      "metadata": {
        "colab": {
          "base_uri": "https://localhost:8080/"
        },
        "id": "Qe-B0uR1U1oj",
        "outputId": "c4172f83-a090-42cc-99f1-9b4f10270a80"
      },
      "source": [
        "!cp -fu /usr/lib/chromium-browser/chromedriver /content/venv/bin"
      ],
      "execution_count": 2,
      "outputs": [
        {
          "output_type": "stream",
          "text": [
            "cp: cannot create regular file '/content/venv/bin': No such file or directory\n"
          ],
          "name": "stdout"
        }
      ]
    },
    {
      "cell_type": "code",
      "metadata": {
        "colab": {
          "base_uri": "https://localhost:8080/"
        },
        "id": "5QZj_6FIZL38",
        "outputId": "ec6ddac1-95dd-4472-ffab-0cf7dfcc1bf4"
      },
      "source": [
        "!ls -la /content/venv/bin"
      ],
      "execution_count": 3,
      "outputs": [
        {
          "output_type": "stream",
          "text": [
            "ls: cannot access '/content/venv/bin': No such file or directory\n"
          ],
          "name": "stdout"
        }
      ]
    },
    {
      "cell_type": "code",
      "metadata": {
        "colab": {
          "base_uri": "https://localhost:8080/"
        },
        "id": "o9mfHJHhXR-j",
        "outputId": "9b6543b7-805d-44b8-b5bd-7c081ae297ba"
      },
      "source": [
        "!pip install --upgrade pip\n",
        "!pip -V "
      ],
      "execution_count": 4,
      "outputs": [
        {
          "output_type": "stream",
          "text": [
            "Collecting pip\n",
            "\u001b[?25l  Downloading https://files.pythonhosted.org/packages/fe/ef/60d7ba03b5c442309ef42e7d69959f73aacccd0d86008362a681c4698e83/pip-21.0.1-py3-none-any.whl (1.5MB)\n",
            "\r\u001b[K     |▏                               | 10kB 22.7MB/s eta 0:00:01\r\u001b[K     |▍                               | 20kB 29.0MB/s eta 0:00:01\r\u001b[K     |▋                               | 30kB 24.3MB/s eta 0:00:01\r\u001b[K     |▉                               | 40kB 21.8MB/s eta 0:00:01\r\u001b[K     |█                               | 51kB 22.5MB/s eta 0:00:01\r\u001b[K     |█▎                              | 61kB 16.6MB/s eta 0:00:01\r\u001b[K     |█▌                              | 71kB 17.3MB/s eta 0:00:01\r\u001b[K     |█▊                              | 81kB 17.4MB/s eta 0:00:01\r\u001b[K     |██                              | 92kB 15.4MB/s eta 0:00:01\r\u001b[K     |██▏                             | 102kB 16.5MB/s eta 0:00:01\r\u001b[K     |██▍                             | 112kB 16.5MB/s eta 0:00:01\r\u001b[K     |██▌                             | 122kB 16.5MB/s eta 0:00:01\r\u001b[K     |██▊                             | 133kB 16.5MB/s eta 0:00:01\r\u001b[K     |███                             | 143kB 16.5MB/s eta 0:00:01\r\u001b[K     |███▏                            | 153kB 16.5MB/s eta 0:00:01\r\u001b[K     |███▍                            | 163kB 16.5MB/s eta 0:00:01\r\u001b[K     |███▋                            | 174kB 16.5MB/s eta 0:00:01\r\u001b[K     |███▉                            | 184kB 16.5MB/s eta 0:00:01\r\u001b[K     |████                            | 194kB 16.5MB/s eta 0:00:01\r\u001b[K     |████▎                           | 204kB 16.5MB/s eta 0:00:01\r\u001b[K     |████▌                           | 215kB 16.5MB/s eta 0:00:01\r\u001b[K     |████▊                           | 225kB 16.5MB/s eta 0:00:01\r\u001b[K     |█████                           | 235kB 16.5MB/s eta 0:00:01\r\u001b[K     |█████                           | 245kB 16.5MB/s eta 0:00:01\r\u001b[K     |█████▎                          | 256kB 16.5MB/s eta 0:00:01\r\u001b[K     |█████▌                          | 266kB 16.5MB/s eta 0:00:01\r\u001b[K     |█████▊                          | 276kB 16.5MB/s eta 0:00:01\r\u001b[K     |██████                          | 286kB 16.5MB/s eta 0:00:01\r\u001b[K     |██████▏                         | 296kB 16.5MB/s eta 0:00:01\r\u001b[K     |██████▍                         | 307kB 16.5MB/s eta 0:00:01\r\u001b[K     |██████▋                         | 317kB 16.5MB/s eta 0:00:01\r\u001b[K     |██████▉                         | 327kB 16.5MB/s eta 0:00:01\r\u001b[K     |███████                         | 337kB 16.5MB/s eta 0:00:01\r\u001b[K     |███████▎                        | 348kB 16.5MB/s eta 0:00:01\r\u001b[K     |███████▌                        | 358kB 16.5MB/s eta 0:00:01\r\u001b[K     |███████▋                        | 368kB 16.5MB/s eta 0:00:01\r\u001b[K     |███████▉                        | 378kB 16.5MB/s eta 0:00:01\r\u001b[K     |████████                        | 389kB 16.5MB/s eta 0:00:01\r\u001b[K     |████████▎                       | 399kB 16.5MB/s eta 0:00:01\r\u001b[K     |████████▌                       | 409kB 16.5MB/s eta 0:00:01\r\u001b[K     |████████▊                       | 419kB 16.5MB/s eta 0:00:01\r\u001b[K     |█████████                       | 430kB 16.5MB/s eta 0:00:01\r\u001b[K     |█████████▏                      | 440kB 16.5MB/s eta 0:00:01\r\u001b[K     |█████████▍                      | 450kB 16.5MB/s eta 0:00:01\r\u001b[K     |█████████▋                      | 460kB 16.5MB/s eta 0:00:01\r\u001b[K     |█████████▉                      | 471kB 16.5MB/s eta 0:00:01\r\u001b[K     |██████████                      | 481kB 16.5MB/s eta 0:00:01\r\u001b[K     |██████████▏                     | 491kB 16.5MB/s eta 0:00:01\r\u001b[K     |██████████▍                     | 501kB 16.5MB/s eta 0:00:01\r\u001b[K     |██████████▋                     | 512kB 16.5MB/s eta 0:00:01\r\u001b[K     |██████████▉                     | 522kB 16.5MB/s eta 0:00:01\r\u001b[K     |███████████                     | 532kB 16.5MB/s eta 0:00:01\r\u001b[K     |███████████▎                    | 542kB 16.5MB/s eta 0:00:01\r\u001b[K     |███████████▌                    | 552kB 16.5MB/s eta 0:00:01\r\u001b[K     |███████████▊                    | 563kB 16.5MB/s eta 0:00:01\r\u001b[K     |████████████                    | 573kB 16.5MB/s eta 0:00:01\r\u001b[K     |████████████▏                   | 583kB 16.5MB/s eta 0:00:01\r\u001b[K     |████████████▍                   | 593kB 16.5MB/s eta 0:00:01\r\u001b[K     |████████████▋                   | 604kB 16.5MB/s eta 0:00:01\r\u001b[K     |████████████▊                   | 614kB 16.5MB/s eta 0:00:01\r\u001b[K     |█████████████                   | 624kB 16.5MB/s eta 0:00:01\r\u001b[K     |█████████████▏                  | 634kB 16.5MB/s eta 0:00:01\r\u001b[K     |█████████████▍                  | 645kB 16.5MB/s eta 0:00:01\r\u001b[K     |█████████████▋                  | 655kB 16.5MB/s eta 0:00:01\r\u001b[K     |█████████████▉                  | 665kB 16.5MB/s eta 0:00:01\r\u001b[K     |██████████████                  | 675kB 16.5MB/s eta 0:00:01\r\u001b[K     |██████████████▎                 | 686kB 16.5MB/s eta 0:00:01\r\u001b[K     |██████████████▌                 | 696kB 16.5MB/s eta 0:00:01\r\u001b[K     |██████████████▊                 | 706kB 16.5MB/s eta 0:00:01\r\u001b[K     |███████████████                 | 716kB 16.5MB/s eta 0:00:01\r\u001b[K     |███████████████▏                | 727kB 16.5MB/s eta 0:00:01\r\u001b[K     |███████████████▎                | 737kB 16.5MB/s eta 0:00:01\r\u001b[K     |███████████████▌                | 747kB 16.5MB/s eta 0:00:01\r\u001b[K     |███████████████▊                | 757kB 16.5MB/s eta 0:00:01\r\u001b[K     |████████████████                | 768kB 16.5MB/s eta 0:00:01\r\u001b[K     |████████████████▏               | 778kB 16.5MB/s eta 0:00:01\r\u001b[K     |████████████████▍               | 788kB 16.5MB/s eta 0:00:01\r\u001b[K     |████████████████▋               | 798kB 16.5MB/s eta 0:00:01\r\u001b[K     |████████████████▉               | 808kB 16.5MB/s eta 0:00:01\r\u001b[K     |█████████████████               | 819kB 16.5MB/s eta 0:00:01\r\u001b[K     |█████████████████▎              | 829kB 16.5MB/s eta 0:00:01\r\u001b[K     |█████████████████▌              | 839kB 16.5MB/s eta 0:00:01\r\u001b[K     |█████████████████▊              | 849kB 16.5MB/s eta 0:00:01\r\u001b[K     |█████████████████▉              | 860kB 16.5MB/s eta 0:00:01\r\u001b[K     |██████████████████              | 870kB 16.5MB/s eta 0:00:01\r\u001b[K     |██████████████████▎             | 880kB 16.5MB/s eta 0:00:01\r\u001b[K     |██████████████████▌             | 890kB 16.5MB/s eta 0:00:01\r\u001b[K     |██████████████████▊             | 901kB 16.5MB/s eta 0:00:01\r\u001b[K     |███████████████████             | 911kB 16.5MB/s eta 0:00:01\r\u001b[K     |███████████████████▏            | 921kB 16.5MB/s eta 0:00:01\r\u001b[K     |███████████████████▍            | 931kB 16.5MB/s eta 0:00:01\r\u001b[K     |███████████████████▋            | 942kB 16.5MB/s eta 0:00:01\r\u001b[K     |███████████████████▉            | 952kB 16.5MB/s eta 0:00:01\r\u001b[K     |████████████████████            | 962kB 16.5MB/s eta 0:00:01\r\u001b[K     |████████████████████▎           | 972kB 16.5MB/s eta 0:00:01\r\u001b[K     |████████████████████▍           | 983kB 16.5MB/s eta 0:00:01\r\u001b[K     |████████████████████▋           | 993kB 16.5MB/s eta 0:00:01\r\u001b[K     |████████████████████▉           | 1.0MB 16.5MB/s eta 0:00:01\r\u001b[K     |█████████████████████           | 1.0MB 16.5MB/s eta 0:00:01\r\u001b[K     |█████████████████████▎          | 1.0MB 16.5MB/s eta 0:00:01\r\u001b[K     |█████████████████████▌          | 1.0MB 16.5MB/s eta 0:00:01\r\u001b[K     |█████████████████████▊          | 1.0MB 16.5MB/s eta 0:00:01\r\u001b[K     |██████████████████████          | 1.1MB 16.5MB/s eta 0:00:01\r\u001b[K     |██████████████████████▏         | 1.1MB 16.5MB/s eta 0:00:01\r\u001b[K     |██████████████████████▍         | 1.1MB 16.5MB/s eta 0:00:01\r\u001b[K     |██████████████████████▋         | 1.1MB 16.5MB/s eta 0:00:01\r\u001b[K     |██████████████████████▉         | 1.1MB 16.5MB/s eta 0:00:01\r\u001b[K     |███████████████████████         | 1.1MB 16.5MB/s eta 0:00:01\r\u001b[K     |███████████████████████▏        | 1.1MB 16.5MB/s eta 0:00:01\r\u001b[K     |███████████████████████▍        | 1.1MB 16.5MB/s eta 0:00:01\r\u001b[K     |███████████████████████▋        | 1.1MB 16.5MB/s eta 0:00:01\r\u001b[K     |███████████████████████▉        | 1.1MB 16.5MB/s eta 0:00:01\r\u001b[K     |████████████████████████        | 1.2MB 16.5MB/s eta 0:00:01\r\u001b[K     |████████████████████████▎       | 1.2MB 16.5MB/s eta 0:00:01\r\u001b[K     |████████████████████████▌       | 1.2MB 16.5MB/s eta 0:00:01\r\u001b[K     |████████████████████████▊       | 1.2MB 16.5MB/s eta 0:00:01\r\u001b[K     |█████████████████████████       | 1.2MB 16.5MB/s eta 0:00:01\r\u001b[K     |█████████████████████████▏      | 1.2MB 16.5MB/s eta 0:00:01\r\u001b[K     |█████████████████████████▍      | 1.2MB 16.5MB/s eta 0:00:01\r\u001b[K     |█████████████████████████▌      | 1.2MB 16.5MB/s eta 0:00:01\r\u001b[K     |█████████████████████████▊      | 1.2MB 16.5MB/s eta 0:00:01\r\u001b[K     |██████████████████████████      | 1.2MB 16.5MB/s eta 0:00:01\r\u001b[K     |██████████████████████████▏     | 1.3MB 16.5MB/s eta 0:00:01\r\u001b[K     |██████████████████████████▍     | 1.3MB 16.5MB/s eta 0:00:01\r\u001b[K     |██████████████████████████▋     | 1.3MB 16.5MB/s eta 0:00:01\r\u001b[K     |██████████████████████████▉     | 1.3MB 16.5MB/s eta 0:00:01\r\u001b[K     |███████████████████████████     | 1.3MB 16.5MB/s eta 0:00:01\r\u001b[K     |███████████████████████████▎    | 1.3MB 16.5MB/s eta 0:00:01\r\u001b[K     |███████████████████████████▌    | 1.3MB 16.5MB/s eta 0:00:01\r\u001b[K     |███████████████████████████▊    | 1.3MB 16.5MB/s eta 0:00:01\r\u001b[K     |███████████████████████████▉    | 1.3MB 16.5MB/s eta 0:00:01\r\u001b[K     |████████████████████████████    | 1.4MB 16.5MB/s eta 0:00:01\r\u001b[K     |████████████████████████████▎   | 1.4MB 16.5MB/s eta 0:00:01\r\u001b[K     |████████████████████████████▌   | 1.4MB 16.5MB/s eta 0:00:01\r\u001b[K     |████████████████████████████▊   | 1.4MB 16.5MB/s eta 0:00:01\r\u001b[K     |█████████████████████████████   | 1.4MB 16.5MB/s eta 0:00:01\r\u001b[K     |█████████████████████████████▏  | 1.4MB 16.5MB/s eta 0:00:01\r\u001b[K     |█████████████████████████████▍  | 1.4MB 16.5MB/s eta 0:00:01\r\u001b[K     |█████████████████████████████▋  | 1.4MB 16.5MB/s eta 0:00:01\r\u001b[K     |█████████████████████████████▉  | 1.4MB 16.5MB/s eta 0:00:01\r\u001b[K     |██████████████████████████████  | 1.4MB 16.5MB/s eta 0:00:01\r\u001b[K     |██████████████████████████████▎ | 1.5MB 16.5MB/s eta 0:00:01\r\u001b[K     |██████████████████████████████▍ | 1.5MB 16.5MB/s eta 0:00:01\r\u001b[K     |██████████████████████████████▋ | 1.5MB 16.5MB/s eta 0:00:01\r\u001b[K     |██████████████████████████████▉ | 1.5MB 16.5MB/s eta 0:00:01\r\u001b[K     |███████████████████████████████ | 1.5MB 16.5MB/s eta 0:00:01\r\u001b[K     |███████████████████████████████▎| 1.5MB 16.5MB/s eta 0:00:01\r\u001b[K     |███████████████████████████████▌| 1.5MB 16.5MB/s eta 0:00:01\r\u001b[K     |███████████████████████████████▊| 1.5MB 16.5MB/s eta 0:00:01\r\u001b[K     |████████████████████████████████| 1.5MB 16.5MB/s eta 0:00:01\r\u001b[K     |████████████████████████████████| 1.5MB 16.5MB/s \n",
            "\u001b[?25hInstalling collected packages: pip\n",
            "  Found existing installation: pip 19.3.1\n",
            "    Uninstalling pip-19.3.1:\n",
            "      Successfully uninstalled pip-19.3.1\n",
            "Successfully installed pip-21.0.1\n",
            "pip 21.0.1 from /usr/local/lib/python3.7/dist-packages/pip (python 3.7)\n"
          ],
          "name": "stdout"
        }
      ]
    },
    {
      "cell_type": "code",
      "metadata": {
        "id": "w1LBoGRCNEl1",
        "colab": {
          "base_uri": "https://localhost:8080/"
        },
        "outputId": "c34133b5-6531-4988-f098-8a486edffc1e"
      },
      "source": [
        "!python3 -m venv venv\n",
        "!ln -s /usr/local/bin /content/venv/usr"
      ],
      "execution_count": 5,
      "outputs": [
        {
          "output_type": "stream",
          "text": [
            "Error: Command '['/content/venv/bin/python3', '-Im', 'ensurepip', '--upgrade', '--default-pip']' returned non-zero exit status 1.\n"
          ],
          "name": "stdout"
        }
      ]
    },
    {
      "cell_type": "code",
      "metadata": {
        "id": "mzjFiSubXv_z",
        "colab": {
          "base_uri": "https://localhost:8080/"
        },
        "outputId": "eac014df-1d80-4d68-a6d3-00c5b1707654"
      },
      "source": [
        "!source venv/bin/activate"
      ],
      "execution_count": 6,
      "outputs": [
        {
          "output_type": "stream",
          "text": [
            "/bin/bash: venv/bin/activate: No such file or directory\n"
          ],
          "name": "stdout"
        }
      ]
    },
    {
      "cell_type": "code",
      "metadata": {
        "colab": {
          "base_uri": "https://localhost:8080/"
        },
        "id": "ZqlXEgmWX3ol",
        "outputId": "d88a775f-b7e8-4a65-d633-76b2025cc869"
      },
      "source": [
        "!python -V\n",
        "!pip3 -V"
      ],
      "execution_count": 7,
      "outputs": [
        {
          "output_type": "stream",
          "text": [
            "Python 3.7.10\n",
            "pip 21.0.1 from /usr/local/lib/python3.7/dist-packages/pip (python 3.7)\n"
          ],
          "name": "stdout"
        }
      ]
    },
    {
      "cell_type": "code",
      "metadata": {
        "colab": {
          "base_uri": "https://localhost:8080/"
        },
        "id": "ZAnhd3KrK7yg",
        "outputId": "84182ff8-3136-4be8-dd26-8c67fd173aeb"
      },
      "source": [
        "!pip install wheel\n",
        "!pip uninstall urllib3 folium -y\n",
        "!pip install urllib3==1.25.9\n",
        "!pip install folium==0.2.1\n",
        "!pip install selenium requests-html pyppeteer"
      ],
      "execution_count": 8,
      "outputs": [
        {
          "output_type": "stream",
          "text": [
            "Requirement already satisfied: wheel in /usr/local/lib/python3.7/dist-packages (0.36.2)\n",
            "Found existing installation: urllib3 1.24.3\n",
            "Uninstalling urllib3-1.24.3:\n",
            "  Successfully uninstalled urllib3-1.24.3\n",
            "Found existing installation: folium 0.8.3\n",
            "Uninstalling folium-0.8.3:\n",
            "  Successfully uninstalled folium-0.8.3\n",
            "Collecting urllib3==1.25.9\n",
            "  Downloading urllib3-1.25.9-py2.py3-none-any.whl (126 kB)\n",
            "\u001b[K     |████████████████████████████████| 126 kB 19.6 MB/s \n",
            "\u001b[?25hInstalling collected packages: urllib3\n",
            "Successfully installed urllib3-1.25.9\n",
            "Collecting folium==0.2.1\n",
            "  Downloading folium-0.2.1.tar.gz (69 kB)\n",
            "\u001b[K     |████████████████████████████████| 69 kB 6.6 MB/s \n",
            "\u001b[?25hRequirement already satisfied: Jinja2 in /usr/local/lib/python3.7/dist-packages (from folium==0.2.1) (2.11.3)\n",
            "Requirement already satisfied: MarkupSafe>=0.23 in /usr/local/lib/python3.7/dist-packages (from Jinja2->folium==0.2.1) (1.1.1)\n",
            "Building wheels for collected packages: folium\n",
            "  Building wheel for folium (setup.py) ... \u001b[?25l\u001b[?25hdone\n",
            "  Created wheel for folium: filename=folium-0.2.1-py3-none-any.whl size=79978 sha256=d1de34f26602259fa7474781776454b233448fabc37d43908ab4f4b3ae7d756e\n",
            "  Stored in directory: /root/.cache/pip/wheels/9a/f0/3a/3f79a6914ff5affaf50cabad60c9f4d565283283c97f0bdccf\n",
            "Successfully built folium\n",
            "Installing collected packages: folium\n",
            "Successfully installed folium-0.2.1\n",
            "Collecting selenium\n",
            "  Downloading selenium-3.141.0-py2.py3-none-any.whl (904 kB)\n",
            "\u001b[K     |████████████████████████████████| 904 kB 18.9 MB/s \n",
            "\u001b[?25hCollecting requests-html\n",
            "  Downloading requests_html-0.10.0-py3-none-any.whl (13 kB)\n",
            "Collecting pyppeteer\n",
            "  Downloading pyppeteer-0.2.5-py3-none-any.whl (87 kB)\n",
            "\u001b[K     |████████████████████████████████| 87 kB 7.8 MB/s \n",
            "\u001b[?25hCollecting tqdm<5.0.0,>=4.42.1\n",
            "  Downloading tqdm-4.60.0-py2.py3-none-any.whl (75 kB)\n",
            "\u001b[K     |████████████████████████████████| 75 kB 4.4 MB/s \n",
            "\u001b[?25hRequirement already satisfied: urllib3<2.0.0,>=1.25.8 in /usr/local/lib/python3.7/dist-packages (from pyppeteer) (1.25.9)\n",
            "Collecting importlib-metadata<3.0.0,>=2.1.1\n",
            "  Downloading importlib_metadata-2.1.1-py2.py3-none-any.whl (10 kB)\n",
            "Requirement already satisfied: appdirs<2.0.0,>=1.4.3 in /usr/local/lib/python3.7/dist-packages (from pyppeteer) (1.4.4)\n",
            "Collecting pyee<9.0.0,>=8.1.0\n",
            "  Downloading pyee-8.1.0-py2.py3-none-any.whl (12 kB)\n",
            "Collecting websockets<9.0,>=8.1\n",
            "  Downloading websockets-8.1-cp37-cp37m-manylinux2010_x86_64.whl (79 kB)\n",
            "\u001b[K     |████████████████████████████████| 79 kB 8.9 MB/s \n",
            "\u001b[?25hRequirement already satisfied: zipp>=0.5 in /usr/local/lib/python3.7/dist-packages (from importlib-metadata<3.0.0,>=2.1.1->pyppeteer) (3.4.1)\n",
            "Collecting fake-useragent\n",
            "  Downloading fake-useragent-0.1.11.tar.gz (13 kB)\n",
            "Collecting pyquery\n",
            "  Downloading pyquery-1.4.3-py3-none-any.whl (22 kB)\n",
            "Collecting w3lib\n",
            "  Downloading w3lib-1.22.0-py2.py3-none-any.whl (20 kB)\n",
            "Requirement already satisfied: bs4 in /usr/local/lib/python3.7/dist-packages (from requests-html) (0.0.1)\n",
            "Requirement already satisfied: requests in /usr/local/lib/python3.7/dist-packages (from requests-html) (2.23.0)\n",
            "Collecting parse\n",
            "  Downloading parse-1.19.0.tar.gz (30 kB)\n",
            "Requirement already satisfied: beautifulsoup4 in /usr/local/lib/python3.7/dist-packages (from bs4->requests-html) (4.6.3)\n",
            "Requirement already satisfied: lxml>=2.1 in /usr/local/lib/python3.7/dist-packages (from pyquery->requests-html) (4.2.6)\n",
            "Collecting cssselect>0.7.9\n",
            "  Downloading cssselect-1.1.0-py2.py3-none-any.whl (16 kB)\n",
            "Requirement already satisfied: idna<3,>=2.5 in /usr/local/lib/python3.7/dist-packages (from requests->requests-html) (2.10)\n",
            "Requirement already satisfied: chardet<4,>=3.0.2 in /usr/local/lib/python3.7/dist-packages (from requests->requests-html) (3.0.4)\n",
            "Requirement already satisfied: certifi>=2017.4.17 in /usr/local/lib/python3.7/dist-packages (from requests->requests-html) (2020.12.5)\n",
            "Requirement already satisfied: six>=1.4.1 in /usr/local/lib/python3.7/dist-packages (from w3lib->requests-html) (1.15.0)\n",
            "Building wheels for collected packages: fake-useragent, parse\n",
            "  Building wheel for fake-useragent (setup.py) ... \u001b[?25l\u001b[?25hdone\n",
            "  Created wheel for fake-useragent: filename=fake_useragent-0.1.11-py3-none-any.whl size=13486 sha256=f885a51976c9e1db0f0c2a721622db960cd77d1cbd272041d617c73947d9d43e\n",
            "  Stored in directory: /root/.cache/pip/wheels/ed/f7/62/50ab6c9a0b5567267ab76a9daa9d06315704209b2c5d032031\n",
            "  Building wheel for parse (setup.py) ... \u001b[?25l\u001b[?25hdone\n",
            "  Created wheel for parse: filename=parse-1.19.0-py3-none-any.whl size=24581 sha256=17e6cb19bcfcbe69b337d27c8e6e2682fca813ec7143cb038bd84244e3c40c54\n",
            "  Stored in directory: /root/.cache/pip/wheels/9c/aa/cc/f2228050ccb40f22144b073f15a2c84f11204f29fc0dce028e\n",
            "Successfully built fake-useragent parse\n",
            "Installing collected packages: websockets, tqdm, pyee, importlib-metadata, cssselect, w3lib, pyquery, pyppeteer, parse, fake-useragent, selenium, requests-html\n",
            "  Attempting uninstall: tqdm\n",
            "    Found existing installation: tqdm 4.41.1\n",
            "    Uninstalling tqdm-4.41.1:\n",
            "      Successfully uninstalled tqdm-4.41.1\n",
            "  Attempting uninstall: importlib-metadata\n",
            "    Found existing installation: importlib-metadata 3.8.1\n",
            "    Uninstalling importlib-metadata-3.8.1:\n",
            "      Successfully uninstalled importlib-metadata-3.8.1\n",
            "Successfully installed cssselect-1.1.0 fake-useragent-0.1.11 importlib-metadata-2.1.1 parse-1.19.0 pyee-8.1.0 pyppeteer-0.2.5 pyquery-1.4.3 requests-html-0.10.0 selenium-3.141.0 tqdm-4.60.0 w3lib-1.22.0 websockets-8.1\n"
          ],
          "name": "stdout"
        }
      ]
    },
    {
      "cell_type": "code",
      "metadata": {
        "id": "NImmtsAU4NLm"
      },
      "source": [
        "import os\n",
        "import csv\n",
        "import time\n",
        "import random"
      ],
      "execution_count": 9,
      "outputs": []
    },
    {
      "cell_type": "code",
      "metadata": {
        "id": "gvjCbEFvLb3M"
      },
      "source": [
        "import requests\n",
        "import pandas as pd\n",
        "import json"
      ],
      "execution_count": 10,
      "outputs": []
    },
    {
      "cell_type": "code",
      "metadata": {
        "id": "agOuJ5C0t1hB"
      },
      "source": [
        "from time import gmtime, strftime\n",
        "from requests_html import HTML, HTMLSession\n",
        "from selenium import webdriver"
      ],
      "execution_count": 11,
      "outputs": []
    },
    {
      "cell_type": "code",
      "metadata": {
        "id": "_TueuQxPLNO8"
      },
      "source": [
        "# This only needs to be done once per notebook.\n",
        "# Import PyDrive and associated libraries.\n",
        "from pydrive.auth import GoogleAuth\n",
        "from pydrive.drive import GoogleDrive\n",
        "from google.colab import auth\n",
        "from oauth2client.client import GoogleCredentials\n",
        "from google.cloud import storage\n",
        "from google.colab import drive"
      ],
      "execution_count": 12,
      "outputs": []
    },
    {
      "cell_type": "code",
      "metadata": {
        "id": "gDhkYW9ALcKs"
      },
      "source": [
        "# Authenticate and create the PyDrive client.\n",
        "auth.authenticate_user()\n",
        "gauth = GoogleAuth()"
      ],
      "execution_count": null,
      "outputs": []
    },
    {
      "cell_type": "code",
      "metadata": {
        "id": "-TqkNxs568su"
      },
      "source": [
        "# Import selenium functions\n",
        "from selenium.webdriver.common.keys import Keys\n",
        "from selenium.webdriver.common.by import By\n",
        "from selenium.webdriver.support.ui import WebDriverWait \n",
        "from selenium.webdriver.support import expected_conditions as EC"
      ],
      "execution_count": null,
      "outputs": []
    },
    {
      "cell_type": "code",
      "metadata": {
        "id": "z9nqtI9aLPTM"
      },
      "source": [
        "#set options to be headless\n",
        "options = webdriver.ChromeOptions() \n",
        "options.add_argument(\"--headless\")\n",
        "options.add_argument(\"--no-sandbox\")\n",
        "options.add_argument(\"--disable-dev-shm-usage\")\n",
        "options.add_experimental_option(\"excludeSwitches\", [\"enable-logging\"])"
      ],
      "execution_count": null,
      "outputs": []
    },
    {
      "cell_type": "code",
      "metadata": {
        "id": "_ksTxtz2Mkm5"
      },
      "source": [
        "# Returns a random float with 2 decimal places, betweeen x & y (inclusive)\n",
        "from time import gmtime, strftime\n",
        "\n",
        "def get_rand(x,y):\n",
        "    wait_time = round(random.uniform(x,y),2)\n",
        "    return wait_time\n",
        "\n",
        "waitnow = get_rand(1,3)\n",
        "shortwait = get_rand(0,2)\n",
        "longwait = get_rand(2,8)\n",
        "\n",
        "date_now = str(time.strftime(\"%d_%m\", gmtime()))\n",
        "time_now = str(time.strftime(\"%d_%m_%H_%M\", gmtime()))"
      ],
      "execution_count": null,
      "outputs": []
    },
    {
      "cell_type": "code",
      "metadata": {
        "id": "z_wWOq9kWWcS"
      },
      "source": [
        "# elements = list(driver.find_elements_by_xpath('//a')[53:])\n",
        "# [e.get_attribute('href') for e in elements]\n",
        "# len(elements)"
      ],
      "execution_count": null,
      "outputs": []
    },
    {
      "cell_type": "code",
      "metadata": {
        "id": "ra5rpOt7DMKz"
      },
      "source": [
        "row = []\n",
        "rows = []"
      ],
      "execution_count": null,
      "outputs": []
    },
    {
      "cell_type": "code",
      "metadata": {
        "id": "mArGC8hvWdb4"
      },
      "source": [
        "driver = webdriver.Chrome('chromedriver', options=options)"
      ],
      "execution_count": null,
      "outputs": []
    },
    {
      "cell_type": "code",
      "metadata": {
        "id": "QjeIGIvFBub9"
      },
      "source": [
        ""
      ],
      "execution_count": null,
      "outputs": []
    },
    {
      "cell_type": "code",
      "metadata": {
        "id": "9s77F7R3AJZW"
      },
      "source": [
        "def get_list_of_urls(url):\n",
        "    urls = []\n",
        "    driver = webdriver.Chrome('chromedriver', options=options)\n",
        "    urls.append( [e.get_attribute('href') for e in list(driver.find_elements_by_xpath('//a')[53:]) ])\n",
        "    url = 'https://www.ecotradegroup.com/en/sitemap/products'\n",
        "    driver.close()\n",
        "    driver.quit()\n",
        "    return urls"
      ],
      "execution_count": null,
      "outputs": []
    },
    {
      "cell_type": "code",
      "metadata": {
        "id": "ujWR3gZ5Eblz"
      },
      "source": [
        ""
      ],
      "execution_count": null,
      "outputs": []
    },
    {
      "cell_type": "code",
      "metadata": {
        "id": "0dh-YPNbVd5D"
      },
      "source": [
        ""
      ],
      "execution_count": null,
      "outputs": []
    },
    {
      "cell_type": "code",
      "metadata": {
        "id": "tiIwq9LCF2TT"
      },
      "source": [
        "text = [ str(s) for s in urls ]"
      ],
      "execution_count": null,
      "outputs": []
    },
    {
      "cell_type": "code",
      "metadata": {
        "id": "9PLYZ3qBHw9B"
      },
      "source": [
        "# text"
      ],
      "execution_count": null,
      "outputs": []
    },
    {
      "cell_type": "code",
      "metadata": {
        "id": "bsDmFt17ECA4"
      },
      "source": [
        "with open('all_links.txt', 'a') as links_file:\n",
        "    [links_file.write(line) for line in text]\n",
        "\n",
        "# with open(links_file, 'r') as links_file:\n",
        "#     [links_file.read(line) for line in text]\n"
      ],
      "execution_count": null,
      "outputs": []
    },
    {
      "cell_type": "code",
      "metadata": {
        "id": "YGSMPNIaHU_u"
      },
      "source": [
        "# /content/cat_links.py\n",
        "# G:/My Drive/cat_scrapper/urls/cat_links.py"
      ],
      "execution_count": null,
      "outputs": []
    },
    {
      "cell_type": "code",
      "metadata": {
        "id": "RpyBrfcEHRm3"
      },
      "source": [
        "urls_list = open('/content/drive/MyDrive/cat_scrapper/urls/cat_links.py', 'r')"
      ],
      "execution_count": null,
      "outputs": []
    },
    {
      "cell_type": "code",
      "metadata": {
        "id": "pTD4LKO9ON6M"
      },
      "source": [
        "dir(urls_list)"
      ],
      "execution_count": null,
      "outputs": []
    },
    {
      "cell_type": "code",
      "metadata": {
        "id": "xY2hER667EvI"
      },
      "source": [
        "# with open('/content/drive/MyDrive/cat_scrapper/urls/cat_links.py', 'r') as urls_lst:\n",
        "#     lst = urls_lst.read()\n",
        "#     print(str(lst))"
      ],
      "execution_count": null,
      "outputs": []
    },
    {
      "cell_type": "code",
      "metadata": {
        "id": "K0KY5uDQDq69"
      },
      "source": [
        "row = []\n",
        "rows = []"
      ],
      "execution_count": null,
      "outputs": []
    },
    {
      "cell_type": "code",
      "metadata": {
        "id": "jf-bRRR1Gndg"
      },
      "source": [
        "for i in rows:\n",
        "    driver.get(i)\n",
        "    f = i.split('/')[-1]\n",
        "    l = driver.page_source()\n",
        "    str(l)\n",
        "\n",
        "    with open('str(f)', 'x') as file:\n",
        "        file.append(str(i), \\n\\n)\n",
        "        file.append(l)"
      ],
      "execution_count": null,
      "outputs": []
    },
    {
      "cell_type": "code",
      "metadata": {
        "id": "O2I3RRb-aEV8"
      },
      "source": [
        "for l in rows[0]:\n",
        "    driver.get(l)\n",
        "    waitshort\n",
        "    product_details = driver.find_elements_by_xpath('//script[1]')\n",
        "\n",
        "    for product in product_details: \n",
        "        product.get_attribute('text')\n",
        "        products.append(product)"
      ],
      "execution_count": null,
      "outputs": []
    },
    {
      "cell_type": "code",
      "metadata": {
        "id": "TLItQnyGKb6p"
      },
      "source": [
        "products[:5000]"
      ],
      "execution_count": null,
      "outputs": []
    },
    {
      "cell_type": "code",
      "metadata": {
        "id": "5U6kXplfEukX"
      },
      "source": [
        "products[5000:10000]"
      ],
      "execution_count": null,
      "outputs": []
    },
    {
      "cell_type": "code",
      "metadata": {
        "id": "NPUc60a8Eui_"
      },
      "source": [
        "products[10000:]"
      ],
      "execution_count": null,
      "outputs": []
    },
    {
      "cell_type": "code",
      "metadata": {
        "id": "JHg1CVRgCfV2"
      },
      "source": [
        "for details in products:\n",
        "    [details.get_attribute('text') for details in products]\n",
        "    row = [data.split('\\n')[6:10] for ev in data[0]]\n",
        "    rows.append(row)"
      ],
      "execution_count": null,
      "outputs": []
    },
    {
      "cell_type": "code",
      "metadata": {
        "id": "g0GSzRmZDF-M"
      },
      "source": [
        "r"
      ],
      "execution_count": null,
      "outputs": []
    },
    {
      "cell_type": "code",
      "metadata": {
        "id": "qBJuAB5qBOAx"
      },
      "source": [
        "# details = [details.get_attribute('text') for details in product_details]"
      ],
      "execution_count": null,
      "outputs": []
    },
    {
      "cell_type": "code",
      "metadata": {
        "id": "JLfcFaMm9jUE"
      },
      "source": [
        "# data = details.get_attribute('text')\n",
        "#row = [data.split('\\n')[6:10]for ev in data[0]]\n",
        "# rows.append(row)"
      ],
      "execution_count": null,
      "outputs": []
    },
    {
      "cell_type": "code",
      "metadata": {
        "id": "nXZ3bHX2Bitg"
      },
      "source": [
        "rows"
      ],
      "execution_count": null,
      "outputs": []
    },
    {
      "cell_type": "code",
      "metadata": {
        "id": "rvL6DQf2fGQe"
      },
      "source": [
        "product_url"
      ],
      "execution_count": null,
      "outputs": []
    },
    {
      "cell_type": "code",
      "metadata": {
        "id": "OtnDBdjNfWcu"
      },
      "source": [
        "links[100]"
      ],
      "execution_count": null,
      "outputs": []
    },
    {
      "cell_type": "code",
      "metadata": {
        "id": "IsuPeGtNzMi4"
      },
      "source": [
        "# document.querySelector(\"#content > div > div > div > div.products-body.clearfix > script:nth-child(2)\")"
      ],
      "execution_count": null,
      "outputs": []
    },
    {
      "cell_type": "code",
      "metadata": {
        "id": "oz7dY1Cxcjfs"
      },
      "source": [
        "# product_details = browser.find_element_by_xpath('/html/body/div[2]/div[1]/div/div/div/div[2]/script[1]')\n",
        "data = product_details.get_attribute('text')\n",
        "row = [data.split('\\n')[6:10]for ev in data[0]]"
      ],
      "execution_count": null,
      "outputs": []
    },
    {
      "cell_type": "code",
      "metadata": {
        "id": "w8sARdELa0Gw"
      },
      "source": [
        "for s in links:\n",
        "    row.insert(0, s)\n",
        "    rows.append(row)"
      ],
      "execution_count": null,
      "outputs": []
    },
    {
      "cell_type": "code",
      "metadata": {
        "id": "AQaAYEQ7Pb9z"
      },
      "source": [
        "labels = [l.text for l in elements]"
      ],
      "execution_count": null,
      "outputs": []
    },
    {
      "cell_type": "code",
      "metadata": {
        "id": "WzX0uuX_PfZ0"
      },
      "source": [
        "for e in elements:\n",
        "    row.append(e.text)\n",
        "    for link in elements link.append(e)\n",
        "    for r in rows:\n",
        "        rows.append(row)\n",
        "        \n",
        "    print(row)"
      ],
      "execution_count": null,
      "outputs": []
    },
    {
      "cell_type": "code",
      "metadata": {
        "id": "cHcbponLy4p4"
      },
      "source": [
        "def get_url(page_num, brand):\n",
        "    url = ''    \n",
        "    if page_num == 1:\n",
        "        url = f'https://www.ecotradegroup.com/carbrand/{brand}'\n",
        "        # csv_file = f'{brand}_{page_num}'\n",
        "    else:\n",
        "        url = f'https://www.ecotradegroup.com/carbrand/{brand}/{page_num}'\n",
        "       # csv_file = f'{brand}_{page_num}'\n",
        "    return url"
      ],
      "execution_count": null,
      "outputs": []
    },
    {
      "cell_type": "code",
      "metadata": {
        "id": "wQistHRoPqmk"
      },
      "source": [
        "get_url(1,'bmw')"
      ],
      "execution_count": null,
      "outputs": []
    },
    {
      "cell_type": "code",
      "metadata": {
        "id": "5QpjNRkmlupn"
      },
      "source": [
        "BASE_DIR = os.path.dirname(os.getcwd())\n",
        "print(BASE_DIR)"
      ],
      "execution_count": null,
      "outputs": []
    },
    {
      "cell_type": "code",
      "metadata": {
        "id": "G07TCOYZmlGt"
      },
      "source": [
        "DATA_DIR = os.path.join(BASE_DIR, 'content', 'cat_prices', 'data', date_now)\n",
        "print(DATA_DIR)"
      ],
      "execution_count": null,
      "outputs": []
    },
    {
      "cell_type": "code",
      "metadata": {
        "id": "gbSaOL1FpGDv"
      },
      "source": [
        "DRIVE_DIR = os.path.join(BASE_DIR, 'content', 'drive', 'MyDrive', 'cat_prices', 'data', date_now)\n",
        "print(DRIVE_DIR)"
      ],
      "execution_count": null,
      "outputs": []
    },
    {
      "cell_type": "code",
      "metadata": {
        "id": "F_Z85-E15xA4"
      },
      "source": [
        "os.makedirs(DATA_DIR, exist_ok=True)\n",
        "os.makedirs(DRIVE_DIR, exist_ok=True)"
      ],
      "execution_count": null,
      "outputs": []
    },
    {
      "cell_type": "code",
      "metadata": {
        "id": "did9M-1Pygm8"
      },
      "source": [
        "def execute(driver):\n",
        "    # driver = webdriver.Chrome('chromedriver', options=options)\n",
        "    # locate the `username` input element\n",
        "    user_input = driver.find_element_by_id('username')\n",
        "    # allow element to be captured \n",
        "    time.sleep(shortwait)\n",
        "    \n",
        "    # clear any placeholder text\n",
        "    user_input.clear()\n",
        "    time.sleep(shortwait)\n",
        "    # send text into the input & allow it to render\n",
        "    username = 'dave@fusion-arc.uk'\n",
        "    user_input.send_keys(username)\n",
        "    time.sleep(longwait)\n",
        "    # locate the next button, wait then execute a click \n",
        "    next_button = driver.find_element_by_xpath('//*[@id=\"login\"]/div[3]/button[2]')\n",
        "    time.sleep(shortwait)\n",
        "    next_button.click()\n",
        "    \n",
        "    # Allow page to reload\n",
        "    time.sleep(longwait)\n",
        "    \n",
        "    # locate the `password` input element\n",
        "    password_input = driver.find_element_by_xpath('//*[@id=\"password\"]')\n",
        "    password_input.clear()\n",
        "    time.sleep(shortwait)\n",
        "    \n",
        "    # send text into the input & allow it to render\n",
        "    password = 'batfink21'\n",
        "    password_input.send_keys(password)\n",
        "    time.sleep(waitnow)\n",
        "\n",
        "    # find the submit button, wait then exexute a click\n",
        "    submit_button = driver.find_element_by_xpath('//*[@id=\"resetting_submit\"]')\n",
        "    time.sleep(shortwait)\n",
        "    submit_button.click()\n",
        "\n",
        "    return driver"
      ],
      "execution_count": null,
      "outputs": []
    },
    {
      "cell_type": "code",
      "metadata": {
        "id": "G0IbM3LC3Y2D"
      },
      "source": [
        "def authenticate():\n",
        "    # define the base url \n",
        "    base_url = \"https://www.catalyticconverterrecycling.com\"\n",
        "    # redirected to login page on the site, find the login text input\n",
        "    redirected = \"https://www.ecotradegroup.com/en/\"\n",
        "    # Create a driver instance\n",
        "    driver = webdriver.Chrome('chromedriver', options=options)\n",
        "    # init the chromedriver with the site home page\n",
        "    browser = driver.get(base_url)\n",
        "    # allow page to load\n",
        "    time.sleep(shortwait)\n",
        "    # Check the browsers current page before login attempt \n",
        "    if driver.current_url == redirected:\n",
        "        login_page = True\n",
        "    \n",
        "        if login_page:\n",
        "            execute(driver)\n",
        "        \n",
        "        return driver\n",
        "    \n",
        "    else:\n",
        "        driver.quit()\n",
        "        time.sleep(shortwait)\n",
        "        authenticate()"
      ],
      "execution_count": null,
      "outputs": []
    },
    {
      "cell_type": "code",
      "metadata": {
        "id": "PLxnOVosnPIo"
      },
      "source": [
        "# session = authenticate()\n",
        "# print(session)"
      ],
      "execution_count": null,
      "outputs": []
    },
    {
      "cell_type": "code",
      "metadata": {
        "id": "X3wtX6dm5MJz"
      },
      "source": [
        "def get_data(page_num, brand, num_pages):\n",
        "    page_num = int(page_num) \n",
        "    brand = str(brand)\n",
        "    num_pages = int(num_pages)\n",
        "    data = list()\n",
        "    row = []\n",
        "    page_list = []\n",
        "    \n",
        "    session = authenticate()\n",
        "\n",
        "    url = f'https://www.ecotradegroup.com/carbrand/{brand}'\n",
        "    \n",
        "    session.get(url)\n",
        "\n",
        "    elements = session.find_elements_by_css_selector(\".product\") # list containing multilple named 2tuples (session='...', element='...')\n",
        "\n",
        "    for e in elements:\n",
        "        r = e.text\n",
        "        row = r.split('\\n')\n",
        "        data.append(row)\n",
        "\n",
        "    for i in range(1, num_pages):\n",
        "        page_num = i+1\n",
        "        page_list.append(page_num)\n",
        "    \n",
        "    for page in page_list:\n",
        "        page_num = page\n",
        "        url = get_url(page_num, brand)\n",
        "\n",
        "        session.get(url)\n",
        "\n",
        "        elements = session.find_elements_by_css_selector(\".product\")\n",
        "        \n",
        "        for e in elements:\n",
        "            r = e.text\n",
        "            row = r.split('\\n')\n",
        "            data.append(row)\n",
        "    \n",
        "    return data"
      ],
      "execution_count": null,
      "outputs": []
    },
    {
      "cell_type": "code",
      "metadata": {
        "id": "KGux_8LJ0lgc"
      },
      "source": [
        "dataset = get_data(1, 'toyota', 74)"
      ],
      "execution_count": null,
      "outputs": []
    },
    {
      "cell_type": "code",
      "metadata": {
        "id": "brNjussW9T6-"
      },
      "source": [
        "# print(dataset)\n",
        "print(len(dataset))"
      ],
      "execution_count": null,
      "outputs": []
    },
    {
      "cell_type": "code",
      "metadata": {
        "id": "OPpIqG75RAr_"
      },
      "source": [
        "[ element.insert(brand) for element in dataset if element != [''] ]\n",
        "print(len(clean_list))"
      ],
      "execution_count": null,
      "outputs": []
    },
    {
      "cell_type": "code",
      "metadata": {
        "id": "SCGGhUh2USs6"
      },
      "source": [
        "print(dataset[0])"
      ],
      "execution_count": null,
      "outputs": []
    },
    {
      "cell_type": "code",
      "metadata": {
        "id": "J0XaTZycUFwk"
      },
      "source": [
        "print(len(clean_list))"
      ],
      "execution_count": null,
      "outputs": []
    },
    {
      "cell_type": "code",
      "metadata": {
        "id": "xcb6LSvnS_fs"
      },
      "source": [
        "brand = 'bmw'"
      ],
      "execution_count": null,
      "outputs": []
    },
    {
      "cell_type": "code",
      "metadata": {
        "id": "NOt7sqTDUKCP"
      },
      "source": [
        "print(named_list[0])"
      ],
      "execution_count": null,
      "outputs": []
    },
    {
      "cell_type": "code",
      "metadata": {
        "id": "XWsPi-kEUJwA"
      },
      "source": [
        "driver = webdriver.Chrome('chromedriver', options=options)\n",
        "\n",
        "url = 'https://www.ecotradegroup.com/en/sitemap/products'\n",
        "row = []\n",
        "rows = []\n",
        "driver.get(url)\n",
        "\n",
        "for a in driver.find_elements_by_xpath('//a'):\n",
        "    row.insert(0, a.get_attribute('href'))\n",
        "    row.insert(1, a.text)\n",
        "    print(row)\n",
        "    rows.append(row)\n",
        "\n"
      ],
      "execution_count": null,
      "outputs": []
    },
    {
      "cell_type": "code",
      "metadata": {
        "id": "I3hQv9YntIeY"
      },
      "source": [
        "url = 'https://www.ecotradegroup.com/en/sitemap/carbrand'"
      ],
      "execution_count": null,
      "outputs": []
    },
    {
      "cell_type": "code",
      "metadata": {
        "id": "SXeq_Of5QwmA"
      },
      "source": [
        "named_list"
      ],
      "execution_count": null,
      "outputs": []
    },
    {
      "cell_type": "code",
      "metadata": {
        "id": "rEiageHT9Tri"
      },
      "source": [
        "page_num = 1\n",
        "num_pages = 30\n",
        "page_list = []\n",
        "for i in range(1, num_pages):\n",
        "    page_num = i+1\n",
        "    page_list.append(page_num)"
      ],
      "execution_count": null,
      "outputs": []
    },
    {
      "cell_type": "code",
      "metadata": {
        "id": "EbIv2EyCD6KP"
      },
      "source": [
        "page_list"
      ],
      "execution_count": null,
      "outputs": []
    },
    {
      "cell_type": "markdown",
      "metadata": {
        "id": "Lq2oOvwfjl_P"
      },
      "source": [
        "    # driver = webdriver.Chrome('chromedriver', options=options) \n",
        "    # <selenium.webdriver.chrome.webdriver.WebDriver (session=\"1e76d1c9df24af0218f11534aef4bb55\")>\n",
        "    ## Example element from elements list['...', '...']\n",
        "\n",
        "[selenium.webdriver.remote.webelement.Webelement](https://www.selenium.dev/selenium/docs/api/py/webdriver_remote/selenium.webdriver.remote.webelement.html#module-selenium.webdriver.remote.webelement)"
      ]
    },
    {
      "cell_type": "code",
      "metadata": {
        "id": "sQRwgehqjldP"
      },
      "source": [
        ""
      ],
      "execution_count": null,
      "outputs": []
    },
    {
      "cell_type": "code",
      "metadata": {
        "id": "wyfK9LEXh1lb"
      },
      "source": [
        ""
      ],
      "execution_count": null,
      "outputs": []
    },
    {
      "cell_type": "code",
      "metadata": {
        "id": "GpJOLE8tk5Jx"
      },
      "source": [
        "link_path = os.path.join(DATA_DIR, csv_file)\n",
        "with open(link_path, 'x') as file:\n",
        "    writer = csv.writer(file)\n",
        "    header = csv.writerow([f'{brand}','docid', 'value(£)', 'year'])"
      ],
      "execution_count": null,
      "outputs": []
    },
    {
      "cell_type": "code",
      "metadata": {
        "id": "dVyNEN_qlbUZ"
      },
      "source": [
        "def get_prices(page_num, num_pages, brand):\n",
        "    while page_num <= num_pages:\n",
        "        write_sheet(page_num, num_pages, brand)\n",
        "        page_num +=1"
      ],
      "execution_count": null,
      "outputs": []
    },
    {
      "cell_type": "code",
      "metadata": {
        "id": "xGNHiwy2lPPW"
      },
      "source": [
        "def write_sheet(page_num, num_pages, brand):\n",
        "\n",
        "    with open(file_path, 'x') as file:\n",
        "        writer = csv.writer(file)\n",
        "        page_num = int(page_num)\n",
        "        num_pages = int(num_pages)\n",
        "        brand = str(brand)\n",
        "        writer.writerow([f'{brand}','docid', 'value(£)', 'year'])\n",
        "        for page in range(num_pages):\n",
        "            rows = get_data(page_num, brand)\n",
        "            for row in rows:\n",
        "                writer.writerow(row)\n",
        "                print(row)\n",
        "            page_num +=1\n",
        "        return file        "
      ],
      "execution_count": null,
      "outputs": []
    },
    {
      "cell_type": "code",
      "metadata": {
        "id": "DVFdY6Bl_GaU"
      },
      "source": [
        "def test_get_data():\n",
        "    data = get_data(1, 'bmw')\n",
        "    data_list = []\n",
        "    for i in data:\n",
        "        data_list.append(i)\n",
        "        print(i)\n",
        "    print(data_list)"
      ],
      "execution_count": null,
      "outputs": []
    },
    {
      "cell_type": "code",
      "metadata": {
        "id": "nAJCFaikN7Ag"
      },
      "source": [
        "test_get_data()"
      ],
      "execution_count": null,
      "outputs": []
    },
    {
      "cell_type": "code",
      "metadata": {
        "id": "yVAKUxsqEdnF"
      },
      "source": [
        "write_sheet(1, 3, 'daewoo')"
      ],
      "execution_count": null,
      "outputs": []
    },
    {
      "cell_type": "code",
      "metadata": {
        "id": "Dgt_HXOP3LFv"
      },
      "source": [
        "write_sheet(1, 43, \"unidentified\")"
      ],
      "execution_count": null,
      "outputs": []
    },
    {
      "cell_type": "code",
      "metadata": {
        "id": "Gfwe4L50ruAD"
      },
      "source": [
        "write_sheet(1, 4, 'daihatsu')"
      ],
      "execution_count": null,
      "outputs": []
    },
    {
      "cell_type": "code",
      "metadata": {
        "id": "HmjmoEMWr57d"
      },
      "source": [
        "write_sheet(1, 39, 'bmw')"
      ],
      "execution_count": null,
      "outputs": []
    },
    {
      "cell_type": "code",
      "metadata": {
        "id": "vmAygGMWb4tV"
      },
      "source": [
        "write_sheet(1, 155, 'ford')"
      ],
      "execution_count": null,
      "outputs": []
    },
    {
      "cell_type": "code",
      "metadata": {
        "id": "ddksS9gNvvwq"
      },
      "source": [
        "write_sheet(1, 8, 'hino')"
      ],
      "execution_count": null,
      "outputs": []
    },
    {
      "cell_type": "code",
      "metadata": {
        "id": "Av1b-diN38Lf"
      },
      "source": [
        "write_sheet(\"1\", \"10\", \"jaguar\")\n",
        "write_sheet(\"1\", \"30\", \"mazda\")\n",
        "write_sheet(\"1\", \"36\", \"mitsubishi\")"
      ],
      "execution_count": null,
      "outputs": []
    },
    {
      "cell_type": "code",
      "metadata": {
        "id": "GIwjilI4vyNi"
      },
      "source": [
        "write_sheet(1, 22, 'honda')"
      ],
      "execution_count": null,
      "outputs": []
    },
    {
      "cell_type": "code",
      "metadata": {
        "id": "Kq9fOIwo5LRq"
      },
      "source": [
        "write_sheet(1, 33, 'renault')"
      ],
      "execution_count": null,
      "outputs": []
    },
    {
      "cell_type": "code",
      "metadata": {
        "id": "d_n31oXr8hRU"
      },
      "source": [
        "write_sheet(1, 3, 'rover')\n",
        "write_sheet(1, 4, 'saab')\n",
        "write_sheet(1, 3, 'ssangyong')\n",
        "write_sheet(1, 15, 'subaru')\n",
        "write_sheet(1, 12, 'suzuki')\n",
        "write_sheet(1, 71, 'toyota')\n",
        "write_sheet(1, 24, 'volvo')"
      ],
      "execution_count": null,
      "outputs": []
    },
    {
      "cell_type": "code",
      "metadata": {
        "id": "YDhS9KsBY5kB"
      },
      "source": [
        "write_sheet(1, 50, 'nissan')"
      ],
      "execution_count": null,
      "outputs": []
    },
    {
      "cell_type": "code",
      "metadata": {
        "id": "Yteits0yV-Dm"
      },
      "source": [
        "write_sheet(1, 44, 'chrysler')\n",
        "write_sheet(1, 7, 'porsche')"
      ],
      "execution_count": null,
      "outputs": []
    },
    {
      "cell_type": "code",
      "metadata": {
        "id": "VXEgNYmp2rHS"
      },
      "source": [
        "write_sheet(1, 89, \"gm\")"
      ],
      "execution_count": null,
      "outputs": []
    },
    {
      "cell_type": "code",
      "metadata": {
        "id": "tRMbIHwk8vlE"
      },
      "source": [
        "write_sheet(1, 58, \"hyundai\")\n",
        "write_sheet(1, 2, \"mini-cooper\")"
      ],
      "execution_count": null,
      "outputs": []
    },
    {
      "cell_type": "code",
      "metadata": {
        "id": "qmUSATML5FjI"
      },
      "source": [
        "write_sheet(1, 11, \"land-rover\")\n",
        "write_sheet(1, 86, \"audi-volkswagen\")"
      ],
      "execution_count": null,
      "outputs": []
    },
    {
      "cell_type": "code",
      "metadata": {
        "id": "khC95Fnf4_U4"
      },
      "source": [
        "write_sheet(1, 33, \"peugeot-citroen\")\n",
        "write_sheet(1, 36, \"mercedes\")"
      ],
      "execution_count": null,
      "outputs": []
    },
    {
      "cell_type": "code",
      "metadata": {
        "id": "EgmEEe5g8r0h"
      },
      "source": [
        "write_sheet(1, 1, \"daf-trucks\")\n",
        "write_sheet(1, 40, \"fiat-alfa-romeo\")\n",
        "write_sheet(1, 1, \"great-wall-motors\")\n",
        "write_sheet(1, 17, \"vauxhal\")"
      ],
      "execution_count": null,
      "outputs": []
    },
    {
      "cell_type": "code",
      "metadata": {
        "id": "TBXDE8oM5363"
      },
      "source": [
        "write_sheet(1, 1, \"smart\")\n",
        "write_sheet(1, 1, \"fuso\")\n",
        "write_sheet(1, 1, \"mack-trucks\")\n",
        "write_sheet(1, 1, \"rolls-royce\")\n",
        "write_sheet(1, 2, \"freightliner-trucks\")\n",
        "write_sheet(1, 8, \"international-trucks\")\n",
        "write_sheet(1, 1, \"kenworth\")\n",
        "write_sheet(1, 1, \"proton\")\n",
        "write_sheet(1, 1, \"ldv\")\n",
        "write_sheet(1, 1, \"chery\")\n",
        "write_sheet(1, 9, 'walker')"
      ],
      "execution_count": null,
      "outputs": []
    },
    {
      "cell_type": "code",
      "metadata": {
        "id": "9ie5mNgO59tD"
      },
      "source": [
        "write_sheet(1, 1, \"seat\")\n",
        "write_sheet(1, 1, \"ferrari\")\n",
        "write_sheet(1, 1, \"isuzu\")"
      ],
      "execution_count": null,
      "outputs": []
    },
    {
      "cell_type": "code",
      "metadata": {
        "id": "o-L0Pk7F62aG"
      },
      "source": [
        "write_sheet(1, 1, \"skoda\")"
      ],
      "execution_count": null,
      "outputs": []
    },
    {
      "cell_type": "code",
      "metadata": {
        "id": "c_MdFDbM6Aq2"
      },
      "source": [
        "write_sheet(1, 1, \"maserati\")\n",
        "write_sheet(1, 1, \"tata\")\n",
        "write_sheet(1, 1, \"lamborghini\")"
      ],
      "execution_count": null,
      "outputs": []
    },
    {
      "cell_type": "code",
      "metadata": {
        "id": "Ju__aS338ntt"
      },
      "source": [
        "write_sheet(1, 1, \"iveco\")\n",
        "write_sheet(1, 1, \"naza\")"
      ],
      "execution_count": null,
      "outputs": []
    },
    {
      "cell_type": "code",
      "metadata": {
        "id": "05LVaWEp4_XN"
      },
      "source": [
        "driver.quit()"
      ],
      "execution_count": null,
      "outputs": []
    },
    {
      "cell_type": "code",
      "metadata": {
        "id": "DAdmVUjrYniA"
      },
      "source": [
        "dirs = os.listdir(DATA_DIR)\n",
        "for file in dirs:\n",
        "    print(file)"
      ],
      "execution_count": null,
      "outputs": []
    },
    {
      "cell_type": "code",
      "metadata": {
        "id": "zuw2Iae0ElXP"
      },
      "source": [
        "#shutil.copy(f'{DATA_DIR}', f'{DRIVE_DIR}')\n",
        "print('Completed')"
      ],
      "execution_count": null,
      "outputs": []
    },
    {
      "cell_type": "code",
      "metadata": {
        "id": "zXNVLoJsD32s"
      },
      "source": [
        "t = [[123, 345],[567,789],[333,566]]\n",
        "\n",
        "flat_list = [item for sublist in t for item in sublist]\n",
        "\n",
        "# which means:\n",
        "\n",
        "flat_list = []\n",
        "for sublist in t:\n",
        "    for item in sublist:\n",
        "        flat_list.append(item)\n",
        "\n",
        "print(flat_list)\n"
      ],
      "execution_count": null,
      "outputs": []
    },
    {
      "cell_type": "code",
      "metadata": {
        "id": "gIlI-940zelY"
      },
      "source": [
        "# DOWNLOADS_DIR = create_download_dirs()\n",
        "# DATA_DIR = create_data_dirs(brand)\n",
        "# CSV = os.path.join(DATA_DIR, f\"{brand}.csv\")"
      ],
      "execution_count": null,
      "outputs": []
    },
    {
      "cell_type": "code",
      "metadata": {
        "id": "1lfXQmEHIqgU"
      },
      "source": [
        "# import csv\n",
        "\n",
        "# with open(f'/gdrive/MyDrive/cat_prices_dev/cat_prices/{brand}.csv', 'a') as file:\n",
        "#     writer = csv.writer(file)\n",
        "#     writer.writerow('Brand', 'Cat_id', '£ Price', 'Year')\n",
        "#     writer.writerows(rows)"
      ],
      "execution_count": null,
      "outputs": []
    },
    {
      "cell_type": "code",
      "metadata": {
        "id": "KqjP9kY4et1_"
      },
      "source": [
        "# set google cloud project with enabled API access\n",
        "# project_id = 'cat-scrapper'\n",
        "# !gcloud config set project {project_id}\n",
        "# bucket_name = 'cat-data'\n",
        "# gauth.credentials = GoogleCredentials.get_application_default()\n",
        "# Mount google drive to notebook\n",
        "# drive.mount('/gdrive')"
      ],
      "execution_count": null,
      "outputs": []
    },
    {
      "cell_type": "code",
      "metadata": {
        "id": "pq3cUXqXl7B2"
      },
      "source": [
        "# brand = 'gm'\n",
        "# csv_file = f'{brand}_{page_num}'\n",
        "# file_path = os.path.join(DATA_DIR, csv_file)\n",
        "# drive_file_path = os.path.join(DRIVE_DIR, csv_file)\n",
        "# localtestfile = os.path.join(DATA_DIR, csv_file)\n",
        "# print(localtestfile)"
      ],
      "execution_count": null,
      "outputs": []
    }
  ]
}